{
 "cells": [
  {
   "cell_type": "markdown",
   "id": "621fc90a",
   "metadata": {},
   "source": [
    "# Book Recommender System"
   ]
  },
  {
   "cell_type": "markdown",
   "id": "32969590",
   "metadata": {},
   "source": [
    "This project embarks on the fascinating journey of building a Book Recommender System using data sourced from Kaggle. \n",
    "With the goal of providing users with book recommendations, it leverages basic unsupervised learning algorithms to propose the user with book based on authors, ratings, and categories. \n"
   ]
  },
  {
   "cell_type": "markdown",
   "id": "408ad4a0",
   "metadata": {},
   "source": [
    "## Key Features:\n",
    "\n",
    "<b>Data Source -</b>  Kaggle:\n",
    "\n",
    "This project uses the data available on Kaggle for the extensive analysis and allows the users to identify the next read based on the latest book the user read.\n",
    "\n",
    "### Unsupervised Learning Algorithms:\n",
    "\n",
    "The core of our recommender system lies in the application of basic unsupervised learning algorithms. This project uses the data and provide the personalized book suggestions without the need for labeled training data.\n",
    "\n",
    "### Author-based Recommendations:\n",
    "\n",
    "The recommender system intelligently analyzes authorship patterns to suggest books that align with your reading preferences.\n",
    "\n",
    "### Rating-driven Suggestions:\n",
    "\n",
    "Your past ratings play a crucial role in shaping the recommendations. The system examines your rating history to understand your preferences, ensuring that each suggested book resonates with your taste.\n",
    "\n",
    "\n",
    "### Category-specific Suggestions:\n",
    "\n",
    "Dive into genres that user is interested in. Whether the user is fan of mystery, romance, or science fiction, our recommender system tailors suggestions based on the categories that pique your interest.\n"
   ]
  },
  {
   "cell_type": "markdown",
   "id": "da420020",
   "metadata": {},
   "source": [
    "## Import Libraries"
   ]
  },
  {
   "cell_type": "code",
   "execution_count": 1,
   "id": "beb4152a",
   "metadata": {},
   "outputs": [],
   "source": [
    "import pandas as pd\n",
    "import re\n",
    "import time\n"
   ]
  },
  {
   "cell_type": "markdown",
   "id": "3f0ca8f8",
   "metadata": {},
   "source": [
    "## Load Data"
   ]
  },
  {
   "cell_type": "code",
   "execution_count": 2,
   "id": "aac297bc",
   "metadata": {},
   "outputs": [
    {
     "name": "stdout",
     "output_type": "stream",
     "text": [
      "1st Set of Books  size: (185693, 19)\n",
      "2nd Set of Books  size: (186463, 19)\n",
      "3rd Set of Books  size: (189340, 19)\n",
      "4th Set of Books  size: (200477, 19)\n",
      "5th Set of Books  size: (215255, 19)\n",
      "6th Set of Books  size: (53947, 19)\n",
      "Shape of Books: (1031175, 19)\n"
     ]
    },
    {
     "data": {
      "text/html": [
       "<div>\n",
       "<style scoped>\n",
       "    .dataframe tbody tr th:only-of-type {\n",
       "        vertical-align: middle;\n",
       "    }\n",
       "\n",
       "    .dataframe tbody tr th {\n",
       "        vertical-align: top;\n",
       "    }\n",
       "\n",
       "    .dataframe thead th {\n",
       "        text-align: right;\n",
       "    }\n",
       "</style>\n",
       "<table border=\"1\" class=\"dataframe\">\n",
       "  <thead>\n",
       "    <tr style=\"text-align: right;\">\n",
       "      <th></th>\n",
       "      <th>Unnamed: 0</th>\n",
       "      <th>user_id</th>\n",
       "      <th>location</th>\n",
       "      <th>age</th>\n",
       "      <th>isbn</th>\n",
       "      <th>rating</th>\n",
       "      <th>book_title</th>\n",
       "      <th>book_author</th>\n",
       "      <th>year_of_publication</th>\n",
       "      <th>publisher</th>\n",
       "      <th>img_s</th>\n",
       "      <th>img_m</th>\n",
       "      <th>img_l</th>\n",
       "      <th>Summary</th>\n",
       "      <th>Language</th>\n",
       "      <th>Category</th>\n",
       "      <th>city</th>\n",
       "      <th>state</th>\n",
       "      <th>country</th>\n",
       "    </tr>\n",
       "  </thead>\n",
       "  <tbody>\n",
       "    <tr>\n",
       "      <th>0</th>\n",
       "      <td>0</td>\n",
       "      <td>2</td>\n",
       "      <td>stockton, california, usa</td>\n",
       "      <td>18.0000</td>\n",
       "      <td>0195153448</td>\n",
       "      <td>0</td>\n",
       "      <td>Classical Mythology</td>\n",
       "      <td>Mark P. O. Morford</td>\n",
       "      <td>2002.0</td>\n",
       "      <td>Oxford University Press</td>\n",
       "      <td>http://images.amazon.com/images/P/0195153448.0...</td>\n",
       "      <td>http://images.amazon.com/images/P/0195153448.0...</td>\n",
       "      <td>http://images.amazon.com/images/P/0195153448.0...</td>\n",
       "      <td>Provides an introduction to classical myths pl...</td>\n",
       "      <td>en</td>\n",
       "      <td>['Social Science']</td>\n",
       "      <td>stockton</td>\n",
       "      <td>california</td>\n",
       "      <td>usa</td>\n",
       "    </tr>\n",
       "    <tr>\n",
       "      <th>1</th>\n",
       "      <td>1</td>\n",
       "      <td>8</td>\n",
       "      <td>timmins, ontario, canada</td>\n",
       "      <td>34.7439</td>\n",
       "      <td>0002005018</td>\n",
       "      <td>5</td>\n",
       "      <td>Clara Callan</td>\n",
       "      <td>Richard Bruce Wright</td>\n",
       "      <td>2001.0</td>\n",
       "      <td>HarperFlamingo Canada</td>\n",
       "      <td>http://images.amazon.com/images/P/0002005018.0...</td>\n",
       "      <td>http://images.amazon.com/images/P/0002005018.0...</td>\n",
       "      <td>http://images.amazon.com/images/P/0002005018.0...</td>\n",
       "      <td>In a small town in Canada, Clara Callan reluct...</td>\n",
       "      <td>en</td>\n",
       "      <td>['Actresses']</td>\n",
       "      <td>timmins</td>\n",
       "      <td>ontario</td>\n",
       "      <td>canada</td>\n",
       "    </tr>\n",
       "    <tr>\n",
       "      <th>2</th>\n",
       "      <td>2</td>\n",
       "      <td>11400</td>\n",
       "      <td>ottawa, ontario, canada</td>\n",
       "      <td>49.0000</td>\n",
       "      <td>0002005018</td>\n",
       "      <td>0</td>\n",
       "      <td>Clara Callan</td>\n",
       "      <td>Richard Bruce Wright</td>\n",
       "      <td>2001.0</td>\n",
       "      <td>HarperFlamingo Canada</td>\n",
       "      <td>http://images.amazon.com/images/P/0002005018.0...</td>\n",
       "      <td>http://images.amazon.com/images/P/0002005018.0...</td>\n",
       "      <td>http://images.amazon.com/images/P/0002005018.0...</td>\n",
       "      <td>In a small town in Canada, Clara Callan reluct...</td>\n",
       "      <td>en</td>\n",
       "      <td>['Actresses']</td>\n",
       "      <td>ottawa</td>\n",
       "      <td>ontario</td>\n",
       "      <td>canada</td>\n",
       "    </tr>\n",
       "    <tr>\n",
       "      <th>3</th>\n",
       "      <td>3</td>\n",
       "      <td>11676</td>\n",
       "      <td>n/a, n/a, n/a</td>\n",
       "      <td>34.7439</td>\n",
       "      <td>0002005018</td>\n",
       "      <td>8</td>\n",
       "      <td>Clara Callan</td>\n",
       "      <td>Richard Bruce Wright</td>\n",
       "      <td>2001.0</td>\n",
       "      <td>HarperFlamingo Canada</td>\n",
       "      <td>http://images.amazon.com/images/P/0002005018.0...</td>\n",
       "      <td>http://images.amazon.com/images/P/0002005018.0...</td>\n",
       "      <td>http://images.amazon.com/images/P/0002005018.0...</td>\n",
       "      <td>In a small town in Canada, Clara Callan reluct...</td>\n",
       "      <td>en</td>\n",
       "      <td>['Actresses']</td>\n",
       "      <td>NaN</td>\n",
       "      <td>NaN</td>\n",
       "      <td>NaN</td>\n",
       "    </tr>\n",
       "    <tr>\n",
       "      <th>4</th>\n",
       "      <td>4</td>\n",
       "      <td>41385</td>\n",
       "      <td>sudbury, ontario, canada</td>\n",
       "      <td>34.7439</td>\n",
       "      <td>0002005018</td>\n",
       "      <td>0</td>\n",
       "      <td>Clara Callan</td>\n",
       "      <td>Richard Bruce Wright</td>\n",
       "      <td>2001.0</td>\n",
       "      <td>HarperFlamingo Canada</td>\n",
       "      <td>http://images.amazon.com/images/P/0002005018.0...</td>\n",
       "      <td>http://images.amazon.com/images/P/0002005018.0...</td>\n",
       "      <td>http://images.amazon.com/images/P/0002005018.0...</td>\n",
       "      <td>In a small town in Canada, Clara Callan reluct...</td>\n",
       "      <td>en</td>\n",
       "      <td>['Actresses']</td>\n",
       "      <td>sudbury</td>\n",
       "      <td>ontario</td>\n",
       "      <td>canada</td>\n",
       "    </tr>\n",
       "  </tbody>\n",
       "</table>\n",
       "</div>"
      ],
      "text/plain": [
       "   Unnamed: 0  user_id                   location      age        isbn  \\\n",
       "0           0        2  stockton, california, usa  18.0000  0195153448   \n",
       "1           1        8   timmins, ontario, canada  34.7439  0002005018   \n",
       "2           2    11400    ottawa, ontario, canada  49.0000  0002005018   \n",
       "3           3    11676              n/a, n/a, n/a  34.7439  0002005018   \n",
       "4           4    41385   sudbury, ontario, canada  34.7439  0002005018   \n",
       "\n",
       "   rating           book_title           book_author  year_of_publication  \\\n",
       "0       0  Classical Mythology    Mark P. O. Morford               2002.0   \n",
       "1       5         Clara Callan  Richard Bruce Wright               2001.0   \n",
       "2       0         Clara Callan  Richard Bruce Wright               2001.0   \n",
       "3       8         Clara Callan  Richard Bruce Wright               2001.0   \n",
       "4       0         Clara Callan  Richard Bruce Wright               2001.0   \n",
       "\n",
       "                 publisher                                              img_s  \\\n",
       "0  Oxford University Press  http://images.amazon.com/images/P/0195153448.0...   \n",
       "1    HarperFlamingo Canada  http://images.amazon.com/images/P/0002005018.0...   \n",
       "2    HarperFlamingo Canada  http://images.amazon.com/images/P/0002005018.0...   \n",
       "3    HarperFlamingo Canada  http://images.amazon.com/images/P/0002005018.0...   \n",
       "4    HarperFlamingo Canada  http://images.amazon.com/images/P/0002005018.0...   \n",
       "\n",
       "                                               img_m  \\\n",
       "0  http://images.amazon.com/images/P/0195153448.0...   \n",
       "1  http://images.amazon.com/images/P/0002005018.0...   \n",
       "2  http://images.amazon.com/images/P/0002005018.0...   \n",
       "3  http://images.amazon.com/images/P/0002005018.0...   \n",
       "4  http://images.amazon.com/images/P/0002005018.0...   \n",
       "\n",
       "                                               img_l  \\\n",
       "0  http://images.amazon.com/images/P/0195153448.0...   \n",
       "1  http://images.amazon.com/images/P/0002005018.0...   \n",
       "2  http://images.amazon.com/images/P/0002005018.0...   \n",
       "3  http://images.amazon.com/images/P/0002005018.0...   \n",
       "4  http://images.amazon.com/images/P/0002005018.0...   \n",
       "\n",
       "                                             Summary Language  \\\n",
       "0  Provides an introduction to classical myths pl...       en   \n",
       "1  In a small town in Canada, Clara Callan reluct...       en   \n",
       "2  In a small town in Canada, Clara Callan reluct...       en   \n",
       "3  In a small town in Canada, Clara Callan reluct...       en   \n",
       "4  In a small town in Canada, Clara Callan reluct...       en   \n",
       "\n",
       "             Category      city       state country  \n",
       "0  ['Social Science']  stockton  california     usa  \n",
       "1       ['Actresses']   timmins     ontario  canada  \n",
       "2       ['Actresses']    ottawa     ontario  canada  \n",
       "3       ['Actresses']       NaN         NaN     NaN  \n",
       "4       ['Actresses']   sudbury     ontario  canada  "
      ]
     },
     "execution_count": 2,
     "metadata": {},
     "output_type": "execute_result"
    }
   ],
   "source": [
    "# https://www.kaggle.com/datasets/ruchi798/bookcrossing-dataset/data\n",
    "books1 = pd.read_csv('./data/Preprocessed1.csv')\n",
    "books2 = pd.read_csv('./data/Preprocessed2.csv')\n",
    "books3 = pd.read_csv('./data/Preprocessed3.csv')\n",
    "books4 = pd.read_csv('./data/Preprocessed4.csv')\n",
    "books5 = pd.read_csv('./data/Preprocessed5.csv')\n",
    "books6 = pd.read_csv('./data/Preprocessed6.csv')\n",
    "print(f'1st Set of Books  size: {books1.shape}')\n",
    "print(f'2nd Set of Books  size: {books2.shape}')\n",
    "print(f'3rd Set of Books  size: {books3.shape}')\n",
    "print(f'4th Set of Books  size: {books4.shape}')\n",
    "print(f'5th Set of Books  size: {books5.shape}')\n",
    "print(f'6th Set of Books  size: {books6.shape}')\n",
    "\n",
    "books = pd.concat([books1, books2, books3, books4, books5, books6], axis=0)\n",
    "print(f'Shape of Books: {books.shape}')\n",
    "books.head()"
   ]
  },
  {
   "cell_type": "markdown",
   "id": "cbe00228",
   "metadata": {},
   "source": [
    "## How it Works:"
   ]
  },
  {
   "cell_type": "markdown",
   "id": "b4b457d0",
   "metadata": {},
   "source": [
    "\n",
    "\n",
    "### Data Preprocessing:\n",
    "\n",
    "To start with, preprocess the data. This includes handling missing values, cleaning data, and organizing it into a structured format.\n",
    "\n",
    "### Unsupervised Learning Model:\n",
    "\n",
    "Leveraging basic unsupervised learning algorithms, it unveil hidden patterns in the dataset. It autonomously identify associations between books, authors, and categories.\n",
    "\n",
    "### User-centric Recommendations:\n",
    "\n",
    "The recommender system takes user input, such as favorite authors, preferred categories, and historical ratings, to generate personalized book recommendations.\n",
    "\n",
    "### Utilize the Scikit for recommendation:\n",
    "\n",
    "The recommendor system make use of scikit cosine-similarity algorithm to recommend the book to the user based on his last book issued.\n"
   ]
  },
  {
   "cell_type": "code",
   "execution_count": 3,
   "id": "238e11e3",
   "metadata": {},
   "outputs": [
    {
     "name": "stdout",
     "output_type": "stream",
     "text": [
      "Original Dataset Shape: (1031175, 19)\n",
      "Unique Categories:['Actresses' '1940 1949' 'Fiction' ... 'Algonquian Indians' 'Menus'\n",
      " 'Merchants']\n",
      "Unique Ratings:[ 5  0  8  6  9  7 10  4  1  2  3]\n",
      "Cleanedup Dataset Shape: (93945, 9)\n"
     ]
    }
   ],
   "source": [
    "dataFrame = books.copy()\n",
    "print(f'Original Dataset Shape: {dataFrame.shape}')\n",
    "dataFrame.dropna(inplace=True)\n",
    "\n",
    "dataFrame.drop(columns = ['Unnamed: 0','location',\n",
    "                   'img_s','img_m','city','age',\n",
    "                   'state','Language','country',\n",
    "                   'year_of_publication'],axis=1,inplace = True)\n",
    "\n",
    "categories = dataFrame['Category'].unique()\n",
    "\n",
    "\n",
    "\n",
    "# Clean up categories\n",
    "dataFrame.drop(index=dataFrame[dataFrame['Category'] == '9'].index, inplace=True)\n",
    "\n",
    "dataFrame['Category'] = dataFrame['Category'].apply(lambda x: re.sub('[\\W_]+',' ',x).strip())\n",
    "\n",
    "categories = dataFrame['Category'].unique()\n",
    "print(f\"Unique Categories:{categories}\") \n",
    "\n",
    "# Remove rows that constains 0 as rating\n",
    "ratings = dataFrame['rating'].unique()\n",
    "\n",
    "#dataFrame.drop(index=dataFrame[dataFrame['rating'] == 0].index, inplace=True)\n",
    "ratings = dataFrame['rating'].unique()\n",
    "print(f\"Unique Ratings:{ratings}\")\n",
    "\n",
    "print(f'Cleanedup Dataset Shape: {dataFrame.shape}')\n"
   ]
  },
  {
   "cell_type": "markdown",
   "id": "05555a39",
   "metadata": {},
   "source": [
    "# Item Based Collabrative Rating"
   ]
  },
  {
   "cell_type": "markdown",
   "id": "980d4bb1",
   "metadata": {},
   "source": [
    "## 1. Rating-driven Suggestions"
   ]
  },
  {
   "cell_type": "code",
   "execution_count": 4,
   "id": "f7fe8fe2",
   "metadata": {},
   "outputs": [
    {
     "name": "stdout",
     "output_type": "stream",
     "text": [
      "Number of Books used for recommendation: (93945, 4)\n",
      "Recommending for `Wild Animus`\n",
      "Time Taken: 9.055074214935303 seconds\n",
      "Top 10 Recommended Books: \n",
      "                                          book_title         0\n",
      "0                                        Wild Animus  1.000000\n",
      "1  A Cat in the Manger: An Alice Nestleton Myster...  0.165174\n",
      "2                                     Marley's Ghost  0.165174\n",
      "3  The Berenstain Bears and the Trouble with Grow...  0.165174\n",
      "4                              More Than a Carpenter  0.165174\n",
      "5                                              Candy  0.124081\n",
      "6  She Said Yes: The Unlikely Martyrdom of Cassie...  0.123225\n",
      "7                       Myth Directions (Myth Books)  0.116554\n",
      "8                                          Earthclan  0.116554\n",
      "9                                A College of Magics  0.116554\n"
     ]
    }
   ],
   "source": [
    "book_basic_data = dataFrame.copy()\n",
    "book_basic_data.drop(columns = ['book_author','publisher','img_l',\n",
    "                   'Summary', 'Category'],axis=1,inplace = True)\n",
    "\n",
    "print(f'Number of Books used for recommendation: {book_basic_data.shape}')\n",
    "\n",
    "\n",
    "\n",
    "def recommend_by_ratings(book_title):\n",
    "    if book_title in dataFrame['book_title'].values:\n",
    "    \n",
    "        num_ratings = pd.DataFrame(book_basic_data['book_title'].value_counts())\n",
    "        #print(f'Number of ratings of the book: {num_ratings}')\n",
    "        \n",
    "        less_rating_books = num_ratings[num_ratings['book_title'] <= 1].index\n",
    "        common_books = book_basic_data[~book_basic_data['book_title'].isin(less_rating_books)]\n",
    "        #print(f'common_books :::{common_books}')\n",
    "        \n",
    "        start = time.time()\n",
    "        \n",
    "        user_book_df = pd.pivot_table(data=common_books, index=['user_id'],\n",
    "                                                    columns=['book_title'],\n",
    "                                                    values='rating')\n",
    "        \n",
    "        end = time.time()\n",
    "        print(f'Time Taken: {end - start} seconds')\n",
    "        user_book_df.fillna(0, inplace=True)\n",
    "        book = user_book_df[book_title]\n",
    "        \n",
    "    \n",
    "        recom_books = pd.DataFrame(user_book_df.corrwith(book). \\\n",
    "                                      sort_values(ascending=False)).reset_index(drop=False)\n",
    "        \n",
    "        print(f'Top 10 Recommended Books: \\n{recom_books.head(10)}')\n",
    "    else:\n",
    "        print(f'Book is not available in dataset. Try different book')\n",
    "\n",
    "\n",
    "## Assuming the user read the book 'Timeline'\n",
    "print(f'Recommending for `Wild Animus`') \n",
    "recommend_by_ratings('Wild Animus')"
   ]
  },
  {
   "cell_type": "code",
   "execution_count": 5,
   "id": "8be641a3",
   "metadata": {},
   "outputs": [
    {
     "name": "stdout",
     "output_type": "stream",
     "text": [
      "Recommending for `Clara Callan`\n",
      "Time Taken: 9.160154819488525 seconds\n",
      "Top 10 Recommended Books: \n",
      "                                          book_title         0\n",
      "0                                       Clara Callan  1.000000\n",
      "1                                          Treasures  0.847990\n",
      "2          Blood is the Sky (An Alex McKnight Novel) -0.000074\n",
      "3                               INTRUDER IN THE WIND -0.000074\n",
      "4             Cannery Row (Steinbeck \\Essentials\\\")\" -0.000074\n",
      "5                                 Holiday for Murder -0.000074\n",
      "6                                 Vegetarian Cooking -0.000074\n",
      "7  Match Made In Texas (Harlequin American Romanc... -0.000074\n",
      "8  Last Dance (Man Of The Month, Freedom Valley) ... -0.000074\n",
      "9               Cassie's Cowboy Daddy (Desire, 1439) -0.000074\n"
     ]
    }
   ],
   "source": [
    "print(f'Recommending for `Clara Callan`') \n",
    "recommend_by_ratings('Clara Callan')"
   ]
  },
  {
   "cell_type": "markdown",
   "id": "cbcf289d",
   "metadata": {},
   "source": [
    "## 2. Category-specific Suggestions"
   ]
  },
  {
   "cell_type": "code",
   "execution_count": 6,
   "id": "73c07d6a",
   "metadata": {},
   "outputs": [
    {
     "name": "stdout",
     "output_type": "stream",
     "text": [
      "Number of Books used for recommendation: (93945, 4)\n",
      "Recommending for `Click`\n"
     ]
    },
    {
     "name": "stderr",
     "output_type": "stream",
     "text": [
      "/var/folders/46/lbbcb42n4xz_pmrf17t8crlc0000gn/T/ipykernel_73155/1690890504.py:19: SettingWithCopyWarning: \n",
      "A value is trying to be set on a copy of a slice from a DataFrame.\n",
      "Try using .loc[row_indexer,col_indexer] = value instead\n",
      "\n",
      "See the caveats in the documentation: https://pandas.pydata.org/pandas-docs/stable/user_guide/indexing.html#returning-a-view-versus-a-copy\n",
      "  books_with_more_categories['belongs_to'] = True\n"
     ]
    },
    {
     "name": "stdout",
     "output_type": "stream",
     "text": [
      "Recommended Books: \n",
      "                                              book_title         0\n",
      "0                 The Sex Files (Harlequin Blaze, No 67)  1.000000\n",
      "1            Gaudi Afternoon: A Cassandra Reilly Mystery  1.000000\n",
      "2      Other Amanda  (Loving Dangerously) (Harlequin ...  1.000000\n",
      "3                                   Other (Childe Cycle)  1.000000\n",
      "4      The Victorian Fairy Tale Book (Pantheon Fairy ...  1.000000\n",
      "...                                                  ...       ...\n",
      "35666                                  Flaubert's Parrot -0.001009\n",
      "35667                                 Pilgrim's Progress -0.001009\n",
      "35668                                            Matilda -0.001236\n",
      "35669                        Another Roadside Attraction -0.001236\n",
      "35670                                       Little Women -0.001236\n",
      "\n",
      "[35671 rows x 2 columns]\n"
     ]
    }
   ],
   "source": [
    "book_with_categories = dataFrame.copy()\n",
    "book_with_categories.drop(columns = ['rating','publisher','img_l',\n",
    "                   'Summary','book_author'],axis=1,inplace = True)\n",
    "\n",
    "print(f'Number of Books used for recommendation: {book_with_categories.shape}')\n",
    "\n",
    "def recommend_by_category(book_title):\n",
    "    if book_title in dataFrame['book_title'].values:\n",
    "    \n",
    "        count_by_categories = pd.DataFrame(book_with_categories['Category'].value_counts())\n",
    "        #print(f'count_by_categories : {count_by_categories}')\n",
    "        \n",
    "        books_with_few_categories = count_by_categories[count_by_categories['Category'] <= 1].index\n",
    "        #print(f'books_with_few_categories: {books_with_few_categories}')\n",
    "        \n",
    "        books_with_more_categories = book_with_categories[~book_with_categories['Category'].isin(books_with_few_categories)]\n",
    "        #print(f'books_with_more_categories: {books_with_more_categories}')\n",
    "        \n",
    "        books_with_more_categories['belongs_to'] = True\n",
    "        \n",
    "        book_category_df = books_with_more_categories.pivot_table(index=['Category'],\n",
    "                                                    columns=['book_title'],\n",
    "                                                    values='belongs_to', aggfunc='any', fill_value=False)\n",
    "        #print(f'book_category_df : {book_category_df}')\n",
    "        book = book_category_df[book_title]\n",
    "    \n",
    "        recom_books = pd.DataFrame(book_category_df.corrwith(book). \\\n",
    "                                      sort_values(ascending=False)).reset_index(drop=False)\n",
    "        \n",
    "        print(f'Recommended Books: \\n{recom_books}')\n",
    "    else:\n",
    "        print(f'Book is not available in dataset. Try different book')\n",
    "\n",
    "\n",
    "## Assuming the user read the book 'Dark Justice'\n",
    "print(f'Recommending for `Click`') \n",
    "recommend_by_category('Click')"
   ]
  },
  {
   "cell_type": "markdown",
   "id": "afbcf3ed",
   "metadata": {},
   "source": [
    "## 3. Author-based Recommendations"
   ]
  },
  {
   "cell_type": "code",
   "execution_count": 7,
   "id": "2e0e8c67",
   "metadata": {},
   "outputs": [
    {
     "name": "stdout",
     "output_type": "stream",
     "text": [
      "Number of Books: 93945\n",
      "Recommended Books:                                             book_title        0\n",
      "0                                                Congo  1.00000\n",
      "1    Michael Crichton: A New Collection of Three Co...  1.00000\n",
      "2                                             Timeline  1.00000\n",
      "3                              The Great Train Robbery  1.00000\n",
      "4                                           Disclosure  1.00000\n",
      "..                                                 ...      ...\n",
      "792                                   Answered Prayers -0.05547\n",
      "793                                              Wings -0.05547\n",
      "794                                       Kaleidoscope -0.05547\n",
      "795                                        Dating Game -0.05547\n",
      "796                                 The Long Road Home -0.05547\n",
      "\n",
      "[797 rows x 2 columns]\n"
     ]
    },
    {
     "name": "stderr",
     "output_type": "stream",
     "text": [
      "/var/folders/46/lbbcb42n4xz_pmrf17t8crlc0000gn/T/ipykernel_73155/3113317411.py:18: SettingWithCopyWarning: \n",
      "A value is trying to be set on a copy of a slice from a DataFrame.\n",
      "Try using .loc[row_indexer,col_indexer] = value instead\n",
      "\n",
      "See the caveats in the documentation: https://pandas.pydata.org/pandas-docs/stable/user_guide/indexing.html#returning-a-view-versus-a-copy\n",
      "  authors_with_more_books['wrote_book'] = True\n"
     ]
    }
   ],
   "source": [
    "book_author_data = dataFrame.copy()\n",
    "book_author_data.drop(columns = ['rating','publisher','img_l',\n",
    "                   'Summary'],axis=1,inplace = True)\n",
    "\n",
    "print(f'Number of Books: {len(book_author_data)}')\n",
    "\n",
    "def recommend_by_author(book_title):\n",
    "    if book_title in dataFrame['book_title'].values:\n",
    "    \n",
    "        count_by_authors = pd.DataFrame(book_author_data['book_author'].value_counts())\n",
    "        #print(f'count_by_authors : {count_by_authors}')\n",
    "        authors_with_less_book = count_by_authors[count_by_authors['book_author'] <= 200].index\n",
    "        #print(f'authors_with_less_book: {authors_with_less_book}')\n",
    "        \n",
    "        authors_with_more_books = book_author_data[~book_author_data['book_author'].isin(authors_with_less_book)]\n",
    "        #print(f'authors_with_more_books: {authors_with_more_books}')\n",
    "        \n",
    "        authors_with_more_books['wrote_book'] = True\n",
    "        \n",
    "        author_book_df = authors_with_more_books.pivot_table(index=['book_author'],\n",
    "                                                    columns=['book_title'],\n",
    "                                                    values='wrote_book', aggfunc='any', fill_value=False)\n",
    "        #print(f'author_book_df : {author_book_df}')\n",
    "        book = author_book_df[book_title]\n",
    "        \n",
    "        #print(f'{book}')\n",
    "    \n",
    "        recom_books = pd.DataFrame(author_book_df.corrwith(book). \\\n",
    "                                      sort_values(ascending=False)).reset_index(drop=False)\n",
    "        \n",
    "        print(f'Recommended Books: {recom_books}')\n",
    "    else:\n",
    "        print(f'Book is not available in dataset. Try different book')\n",
    "\n",
    "## Assuming the user read the book 'Timeline'\n",
    "recommend_by_author('Timeline')"
   ]
  },
  {
   "cell_type": "markdown",
   "id": "e53c0d3a",
   "metadata": {},
   "source": [
    "## 4. Using Scikit Learn"
   ]
  },
  {
   "cell_type": "code",
   "execution_count": 8,
   "id": "cff301fc",
   "metadata": {},
   "outputs": [
    {
     "name": "stdout",
     "output_type": "stream",
     "text": [
      "Time Taken: 154.02481412887573 seconds\n"
     ]
    }
   ],
   "source": [
    "import pandas as pd\n",
    "from sklearn.metrics.pairwise import cosine_similarity\n",
    "\n",
    "start = time.time()\n",
    "\n",
    "book_df = dataFrame.copy()\n",
    "# Create a user-item matrix\n",
    "user_item_matrix = book_df.pivot(index='user_id', columns='isbn', values='rating').fillna(0)\n",
    "\n",
    "# Calculate item-item similarity using cosine similarity\n",
    "item_similarity = cosine_similarity(user_item_matrix.T)\n",
    "\n",
    "# Convert the similarity matrix into a DataFrame\n",
    "item_similarity_df = pd.DataFrame(item_similarity, index=user_item_matrix.columns, columns=user_item_matrix.columns)\n",
    "end = time.time()\n",
    "print(f'Time Taken: {end - start} seconds')\n",
    "\n",
    "def get_book_recommendations(book_id, n=5):\n",
    "    similar_books = item_similarity_df[book_id].sort_values(ascending=False).index[1:n+1]\n",
    "    return similar_books\n",
    "\n"
   ]
  },
  {
   "cell_type": "code",
   "execution_count": 9,
   "id": "8f356686",
   "metadata": {},
   "outputs": [
    {
     "name": "stdout",
     "output_type": "stream",
     "text": [
      "Top 5 Recommendations for Book 0002005018:\n",
      "Index(['0440214009', '0743244176', '074324088X', '0743240928', '0743241908'], dtype='object', name='isbn')\n",
      "Item: 0440214009, book_title: Treasures\n",
      "Item: 0743244176, book_title: Miss Manners' Guide to Rearing Perfect Children\n",
      "Item: 074324088X, book_title: I Hate To See That Evening Sun Go Down : Collected Stories\n",
      "Item: 0743240928, book_title: That Old Ace in the Hole : A Novel\n",
      "Item: 0743241908, book_title: What We Saw : The Events of September 11, 2001, in Words, Pictures, and Video\n"
     ]
    }
   ],
   "source": [
    "# Get recommendations for book with ID 0002005018 i.e. Clara Callan\n",
    "book_id_to_recommend = '0002005018' \n",
    "recommendations = get_book_recommendations(book_id_to_recommend)\n",
    "\n",
    "print(f\"Top 5 Recommendations for Book {book_id_to_recommend}:\")\n",
    "print(recommendations)\n",
    "\n",
    "recommended_books_name = [book_df[book_df['isbn'] == bookid]['book_title'].iloc[0] if bookid in book_df['isbn'].values else None for bookid in recommendations]\n",
    "# Print the results\n",
    "for item, book_title in zip(recommendations, recommended_books_name):\n",
    "    print(f\"Item: {item}, book_title: {book_title}\")\n",
    "\n"
   ]
  },
  {
   "cell_type": "markdown",
   "id": "02d04f98",
   "metadata": {},
   "source": [
    "## Conclusion:\n",
    "This Book Recommender System uses one attribute at time to recommend the user with the next one. This recommender can be extended to next level where the system utilises all the attributes together to provide the best suggestion. The book recommender can also utilize the summary column to extract the keywords of the book and provide the next recommendation to user."
   ]
  },
  {
   "cell_type": "code",
   "execution_count": null,
   "id": "2771f355",
   "metadata": {},
   "outputs": [],
   "source": []
  }
 ],
 "metadata": {
  "kernelspec": {
   "display_name": "Python 3 (ipykernel)",
   "language": "python",
   "name": "python3"
  },
  "language_info": {
   "codemirror_mode": {
    "name": "ipython",
    "version": 3
   },
   "file_extension": ".py",
   "mimetype": "text/x-python",
   "name": "python",
   "nbconvert_exporter": "python",
   "pygments_lexer": "ipython3",
   "version": "3.11.4"
  }
 },
 "nbformat": 4,
 "nbformat_minor": 5
}
