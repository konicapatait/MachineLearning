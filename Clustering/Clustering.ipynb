{
 "cells": [
  {
   "cell_type": "markdown",
   "metadata": {},
   "source": [
    "## Clustering\n",
    "\n",
    "### K Means Clustering\n",
    "\n"
   ]
  },
  {
   "cell_type": "code",
   "execution_count": 4,
   "metadata": {},
   "outputs": [],
   "source": [
    "import argparse\n",
    "import pandas as pd\n",
    "import numpy as np\n",
    "import pickle\n",
    "from pathlib import Path\n",
    "from collections import defaultdict"
   ]
  },
  {
   "cell_type": "code",
   "execution_count": 5,
   "metadata": {},
   "outputs": [],
   "source": [
    "import math\n",
    "\n",
    "def euclidean_distance(point1, point2):\n",
    "    distance = math.sqrt((point1[0]-point2[0])**2 + (point1[1]-point2[1])**2)\n",
    "    return distance\n",
    "\n",
    "def assign_clusters(data, centroids):\n",
    "    clusters = [[] for _ in range(len(centroids))]\n",
    "    print(clusters)\n",
    "    for point in data:\n",
    "        distances = [euclidean_distance(point, centroid) for centroid in centroids]\n",
    "        print('distances: '+str(distances))\n",
    "        closest_centroid = distances.index(min(distances))\n",
    "        print('closest_centroid: '+str(closest_centroid))\n",
    "        clusters[closest_centroid].append(point)\n",
    "    return clusters\n",
    "\n",
    "def update_centroids(clusters):\n",
    "    centroids = []\n",
    "    for cluster in clusters:\n",
    "        if cluster:\n",
    "            x_values = [point[0] for point in cluster]\n",
    "            y_values = [point[1] for point in cluster]\n",
    "            centroid_x = sum(x_values)/len(cluster)\n",
    "            centroid_y = sum(y_values)/len(cluster)\n",
    "            centroid = [centroid_x, centroid_y]\n",
    "            centroids.append(centroid)\n",
    "    return centroids\n",
    "\n",
    "\n",
    "\n",
    "def k_means_clustering(centroids, dataset):\n",
    "\n",
    "#   Description: Perform k means clustering for 2 iterations given as input the dataset and centroids.\n",
    "#   Input:\n",
    "#       1. centroids - A list of lists containing the initial centroids for each cluster. \n",
    "#       2. dataset - A list of lists denoting points in the space.\n",
    "#   Output:\n",
    "#       1. results - A dictionary where the key is iteration number and store the cluster assignments in the \n",
    "#           appropriate clusters. Also, update the centroids list after each iteration.\n",
    "\n",
    "    result = {\n",
    "        '1': { 'cluster1': [], 'cluster2': [], 'cluster3': [], 'centroids': []},\n",
    "        '2': { 'cluster1': [], 'cluster2': [], 'cluster3': [], 'centroids': []}\n",
    "    }\n",
    "    \n",
    "    centroid1, centroid2, centroid3 = centroids[0], centroids[1], centroids[2]\n",
    "    \n",
    "    for iteration in range(2):\n",
    "        # your code here\n",
    "        \n",
    "        clusters = assign_clusters(dataset, centroids)\n",
    "        print('Clusters:: '+str(clusters))\n",
    "        centroids = update_centroids(clusters)\n",
    "        print('centroids:: '+str(centroids))\n",
    "        result[str(iteration+1)]['centroids'] = centroids\n",
    "        for i in range(len(clusters)):\n",
    "            result[str(iteration+1)]['cluster'+str(i+1)] = clusters[i]\n",
    "\n",
    "        print('result:: '+str(result))\n",
    "        \n",
    "    return result\n"
   ]
  },
  {
   "cell_type": "code",
   "execution_count": 6,
   "metadata": {},
   "outputs": [
    {
     "name": "stdout",
     "output_type": "stream",
     "text": [
      "Kmeans Data: [[46, 33], [26, 21], [23, 96], [82, 20], [25, 42], [29, 99], [30, 64], [57, 51], [12, 68], [25, 9]]\n",
      "Centroid Data: [[12, 68], [46, 33], [25, 42]]\n",
      "[[], [], []]\n",
      "distances: [48.79549159502341, 0.0, 22.847319317591726]\n",
      "closest_centroid: 1\n",
      "distances: [49.040799340956916, 23.323807579381203, 21.02379604162864]\n",
      "closest_centroid: 2\n",
      "distances: [30.083217912982647, 67.06713054842886, 54.037024344425184]\n",
      "closest_centroid: 0\n",
      "distances: [84.87638069569178, 38.27531841800928, 61.09828148156051]\n",
      "closest_centroid: 1\n",
      "distances: [29.068883707497267, 22.847319317591726, 0.0]\n",
      "closest_centroid: 2\n",
      "distances: [35.35533905932738, 68.15423684555495, 57.14017850864661]\n",
      "closest_centroid: 0\n",
      "distances: [18.439088914585774, 34.88552708502482, 22.561028345356956]\n",
      "closest_centroid: 0\n",
      "distances: [48.104053883222775, 21.095023109728988, 33.24154027718932]\n",
      "closest_centroid: 1\n",
      "distances: [0.0, 48.79549159502341, 29.068883707497267]\n",
      "closest_centroid: 0\n",
      "distances: [60.41522986797286, 31.89043743820395, 33.0]\n",
      "closest_centroid: 1\n",
      "Clusters:: [[[23, 96], [29, 99], [30, 64], [12, 68]], [[46, 33], [82, 20], [57, 51], [25, 9]], [[26, 21], [25, 42]]]\n",
      "centroids:: [[23.5, 81.75], [52.5, 28.25], [25.5, 31.5]]\n",
      "result:: {'1': {'cluster1': [[23, 96], [29, 99], [30, 64], [12, 68]], 'cluster2': [[46, 33], [82, 20], [57, 51], [25, 9]], 'cluster3': [[26, 21], [25, 42]], 'centroids': [[23.5, 81.75], [52.5, 28.25], [25.5, 31.5]]}, '2': {'cluster1': [], 'cluster2': [], 'cluster3': [], 'centroids': []}}\n",
      "[[], [], []]\n",
      "distances: [53.69182898728632, 8.050621094052309, 20.554804791094465]\n",
      "closest_centroid: 1\n",
      "distances: [60.80141856897748, 27.473851204372494, 10.51189802081432]\n",
      "closest_centroid: 2\n",
      "distances: [14.2587692315992, 73.89392735536528, 64.54843142943135]\n",
      "closest_centroid: 0\n",
      "distances: [85.0606401339656, 30.631886980726474, 57.65847726050351]\n",
      "closest_centroid: 1\n",
      "distances: [39.77829181852836, 30.745934690622107, 10.51189802081432]\n",
      "closest_centroid: 2\n",
      "distances: [18.105593058499906, 74.55073775624223, 67.59067983087608]\n",
      "closest_centroid: 0\n",
      "distances: [18.90271144571593, 42.24112332786618, 32.810059433045836]\n",
      "closest_centroid: 0\n",
      "distances: [45.473206396734334, 23.19078480776362, 37.04726710568541]\n",
      "closest_centroid: 1\n",
      "distances: [17.92519177024335, 56.747797314080834, 38.91657744458009]\n",
      "closest_centroid: 0\n",
      "distances: [72.76546227435101, 33.56802794326768, 22.5055548698538]\n",
      "closest_centroid: 2\n",
      "Clusters:: [[[23, 96], [29, 99], [30, 64], [12, 68]], [[46, 33], [82, 20], [57, 51]], [[26, 21], [25, 42], [25, 9]]]\n",
      "centroids:: [[23.5, 81.75], [61.666666666666664, 34.666666666666664], [25.333333333333332, 24.0]]\n",
      "result:: {'1': {'cluster1': [[23, 96], [29, 99], [30, 64], [12, 68]], 'cluster2': [[46, 33], [82, 20], [57, 51], [25, 9]], 'cluster3': [[26, 21], [25, 42]], 'centroids': [[23.5, 81.75], [52.5, 28.25], [25.5, 31.5]]}, '2': {'cluster1': [[23, 96], [29, 99], [30, 64], [12, 68]], 'cluster2': [[46, 33], [82, 20], [57, 51]], 'cluster3': [[26, 21], [25, 42], [25, 9]], 'centroids': [[23.5, 81.75], [61.666666666666664, 34.666666666666664], [25.333333333333332, 24.0]]}}\n"
     ]
    },
    {
     "data": {
      "text/plain": [
       "{'1': {'cluster1': [[23, 96], [29, 99], [30, 64], [12, 68]],\n",
       "  'cluster2': [[46, 33], [82, 20], [57, 51], [25, 9]],\n",
       "  'cluster3': [[26, 21], [25, 42]],\n",
       "  'centroids': [[23.5, 81.75], [52.5, 28.25], [25.5, 31.5]]},\n",
       " '2': {'cluster1': [[23, 96], [29, 99], [30, 64], [12, 68]],\n",
       "  'cluster2': [[46, 33], [82, 20], [57, 51]],\n",
       "  'cluster3': [[26, 21], [25, 42], [25, 9]],\n",
       "  'centroids': [[23.5, 81.75],\n",
       "   [61.666666666666664, 34.666666666666664],\n",
       "   [25.333333333333332, 24.0]]}}"
      ]
     },
     "execution_count": 6,
     "metadata": {},
     "output_type": "execute_result"
    }
   ],
   "source": [
    "with open ('data/sample_dataset_kmeans.pickle', 'rb') as f:\n",
    "    dataset = pickle.load(f)\n",
    "print('Kmeans Data: '+str(dataset))\n",
    "with open ('./data/sample_centroids_kmeans.pickle', 'rb') as f:\n",
    "    centroids = pickle.load(f)\n",
    "print('Centroid Data: '+str(centroids))\n",
    "\n",
    "k_means_clustering(centroids,dataset)"
   ]
  },
  {
   "cell_type": "code",
   "execution_count": null,
   "metadata": {},
   "outputs": [],
   "source": []
  }
 ],
 "metadata": {
  "kernelspec": {
   "display_name": "Python 3",
   "language": "python",
   "name": "python3"
  },
  "language_info": {
   "codemirror_mode": {
    "name": "ipython",
    "version": 3
   },
   "file_extension": ".py",
   "mimetype": "text/x-python",
   "name": "python",
   "nbconvert_exporter": "python",
   "pygments_lexer": "ipython3",
   "version": "3.7.6"
  }
 },
 "nbformat": 4,
 "nbformat_minor": 4
}
