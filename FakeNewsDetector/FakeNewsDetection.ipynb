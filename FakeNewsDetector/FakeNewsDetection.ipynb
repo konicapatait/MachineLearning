{
 "cells": [
  {
   "cell_type": "markdown",
   "id": "c18390de-a49d-450e-8ecb-dea8752a7c9b",
   "metadata": {},
   "source": [
    "# Fake News Detector"
   ]
  },
  {
   "cell_type": "markdown",
   "id": "f2a56abf-88c6-404e-9084-0714ccd34c35",
   "metadata": {},
   "source": [
    "### Problem statement\n",
    "In today's world articles, posts, news can be generated and spread easily. Analyzing the articles, detecting misinformation and stopping from spreading is crucial to maintaing the safety in society. Fake information can spread false information, leading people to make incorrect decisions based in inaccruate data. Fake information can impact the election results, economic, social, health and safety of people.\n",
    "\n",
    "\n",
    "Dataset: https://www.kaggle.com/datasets/jainpooja/fake-news-detection\n",
    "\n",
    "### Overview\n",
    "This application generates different models to identify the fake news and evaluate the performance of those models. As part of this project, we are considering following methods to create the models:\n",
    "\n",
    "- Passive Aggressive Classifier\n",
    "- Gradient Boost Classifier\n",
    "- Support Vector\n",
    "- Extreme Gradient Boost Classifier\n",
    "\n",
    "I also used same methods on news text and tokenized/lemmanized text to evaluate the performance of the different models.\n",
    "\n"
   ]
  },
  {
   "cell_type": "markdown",
   "id": "c1e9b30d-38c1-4c20-880d-b18fb979ab8a",
   "metadata": {},
   "source": [
    "## Install Packages"
   ]
  },
  {
   "cell_type": "code",
   "execution_count": 2,
   "id": "c9583cf0-7d5f-430f-87f5-2a6db87f7873",
   "metadata": {
    "tags": []
   },
   "outputs": [
    {
     "name": "stderr",
     "output_type": "stream",
     "text": [
      "[nltk_data] Downloading collection 'all'\n",
      "[nltk_data]    | \n",
      "[nltk_data]    | Downloading package abc to\n",
      "[nltk_data]    |     /Users/konicapatait/nltk_data...\n",
      "[nltk_data]    |   Package abc is already up-to-date!\n",
      "[nltk_data]    | Downloading package alpino to\n",
      "[nltk_data]    |     /Users/konicapatait/nltk_data...\n",
      "[nltk_data]    |   Package alpino is already up-to-date!\n",
      "[nltk_data]    | Downloading package averaged_perceptron_tagger to\n",
      "[nltk_data]    |     /Users/konicapatait/nltk_data...\n",
      "[nltk_data]    |   Package averaged_perceptron_tagger is already up-\n",
      "[nltk_data]    |       to-date!\n",
      "[nltk_data]    | Downloading package averaged_perceptron_tagger_ru to\n",
      "[nltk_data]    |     /Users/konicapatait/nltk_data...\n",
      "[nltk_data]    |   Package averaged_perceptron_tagger_ru is already\n",
      "[nltk_data]    |       up-to-date!\n",
      "[nltk_data]    | Downloading package basque_grammars to\n",
      "[nltk_data]    |     /Users/konicapatait/nltk_data...\n",
      "[nltk_data]    |   Package basque_grammars is already up-to-date!\n",
      "[nltk_data]    | Downloading package bcp47 to\n",
      "[nltk_data]    |     /Users/konicapatait/nltk_data...\n",
      "[nltk_data]    |   Package bcp47 is already up-to-date!\n",
      "[nltk_data]    | Downloading package biocreative_ppi to\n",
      "[nltk_data]    |     /Users/konicapatait/nltk_data...\n",
      "[nltk_data]    |   Package biocreative_ppi is already up-to-date!\n",
      "[nltk_data]    | Downloading package bllip_wsj_no_aux to\n",
      "[nltk_data]    |     /Users/konicapatait/nltk_data...\n",
      "[nltk_data]    |   Package bllip_wsj_no_aux is already up-to-date!\n",
      "[nltk_data]    | Downloading package book_grammars to\n",
      "[nltk_data]    |     /Users/konicapatait/nltk_data...\n",
      "[nltk_data]    |   Package book_grammars is already up-to-date!\n",
      "[nltk_data]    | Downloading package brown to\n",
      "[nltk_data]    |     /Users/konicapatait/nltk_data...\n",
      "[nltk_data]    |   Package brown is already up-to-date!\n",
      "[nltk_data]    | Downloading package brown_tei to\n",
      "[nltk_data]    |     /Users/konicapatait/nltk_data...\n",
      "[nltk_data]    |   Package brown_tei is already up-to-date!\n",
      "[nltk_data]    | Downloading package cess_cat to\n",
      "[nltk_data]    |     /Users/konicapatait/nltk_data...\n",
      "[nltk_data]    |   Package cess_cat is already up-to-date!\n",
      "[nltk_data]    | Downloading package cess_esp to\n",
      "[nltk_data]    |     /Users/konicapatait/nltk_data...\n",
      "[nltk_data]    |   Package cess_esp is already up-to-date!\n",
      "[nltk_data]    | Downloading package chat80 to\n",
      "[nltk_data]    |     /Users/konicapatait/nltk_data...\n",
      "[nltk_data]    |   Package chat80 is already up-to-date!\n",
      "[nltk_data]    | Downloading package city_database to\n",
      "[nltk_data]    |     /Users/konicapatait/nltk_data...\n",
      "[nltk_data]    |   Package city_database is already up-to-date!\n",
      "[nltk_data]    | Downloading package cmudict to\n",
      "[nltk_data]    |     /Users/konicapatait/nltk_data...\n",
      "[nltk_data]    |   Package cmudict is already up-to-date!\n",
      "[nltk_data]    | Downloading package comparative_sentences to\n",
      "[nltk_data]    |     /Users/konicapatait/nltk_data...\n",
      "[nltk_data]    |   Package comparative_sentences is already up-to-\n",
      "[nltk_data]    |       date!\n",
      "[nltk_data]    | Downloading package comtrans to\n",
      "[nltk_data]    |     /Users/konicapatait/nltk_data...\n",
      "[nltk_data]    |   Package comtrans is already up-to-date!\n",
      "[nltk_data]    | Downloading package conll2000 to\n",
      "[nltk_data]    |     /Users/konicapatait/nltk_data...\n",
      "[nltk_data]    |   Package conll2000 is already up-to-date!\n",
      "[nltk_data]    | Downloading package conll2002 to\n",
      "[nltk_data]    |     /Users/konicapatait/nltk_data...\n",
      "[nltk_data]    |   Package conll2002 is already up-to-date!\n",
      "[nltk_data]    | Downloading package conll2007 to\n",
      "[nltk_data]    |     /Users/konicapatait/nltk_data...\n",
      "[nltk_data]    |   Package conll2007 is already up-to-date!\n",
      "[nltk_data]    | Downloading package crubadan to\n",
      "[nltk_data]    |     /Users/konicapatait/nltk_data...\n",
      "[nltk_data]    |   Package crubadan is already up-to-date!\n",
      "[nltk_data]    | Downloading package dependency_treebank to\n",
      "[nltk_data]    |     /Users/konicapatait/nltk_data...\n",
      "[nltk_data]    |   Package dependency_treebank is already up-to-date!\n",
      "[nltk_data]    | Downloading package dolch to\n",
      "[nltk_data]    |     /Users/konicapatait/nltk_data...\n",
      "[nltk_data]    |   Package dolch is already up-to-date!\n",
      "[nltk_data]    | Downloading package europarl_raw to\n",
      "[nltk_data]    |     /Users/konicapatait/nltk_data...\n",
      "[nltk_data]    |   Package europarl_raw is already up-to-date!\n",
      "[nltk_data]    | Downloading package extended_omw to\n",
      "[nltk_data]    |     /Users/konicapatait/nltk_data...\n",
      "[nltk_data]    |   Package extended_omw is already up-to-date!\n",
      "[nltk_data]    | Downloading package floresta to\n",
      "[nltk_data]    |     /Users/konicapatait/nltk_data...\n",
      "[nltk_data]    |   Package floresta is already up-to-date!\n",
      "[nltk_data]    | Downloading package framenet_v15 to\n",
      "[nltk_data]    |     /Users/konicapatait/nltk_data...\n",
      "[nltk_data]    |   Package framenet_v15 is already up-to-date!\n",
      "[nltk_data]    | Downloading package framenet_v17 to\n",
      "[nltk_data]    |     /Users/konicapatait/nltk_data...\n",
      "[nltk_data]    |   Package framenet_v17 is already up-to-date!\n",
      "[nltk_data]    | Downloading package gazetteers to\n",
      "[nltk_data]    |     /Users/konicapatait/nltk_data...\n",
      "[nltk_data]    |   Package gazetteers is already up-to-date!\n",
      "[nltk_data]    | Downloading package genesis to\n",
      "[nltk_data]    |     /Users/konicapatait/nltk_data...\n",
      "[nltk_data]    |   Package genesis is already up-to-date!\n",
      "[nltk_data]    | Downloading package gutenberg to\n",
      "[nltk_data]    |     /Users/konicapatait/nltk_data...\n",
      "[nltk_data]    |   Package gutenberg is already up-to-date!\n",
      "[nltk_data]    | Downloading package ieer to\n",
      "[nltk_data]    |     /Users/konicapatait/nltk_data...\n",
      "[nltk_data]    |   Package ieer is already up-to-date!\n",
      "[nltk_data]    | Downloading package inaugural to\n",
      "[nltk_data]    |     /Users/konicapatait/nltk_data...\n",
      "[nltk_data]    |   Package inaugural is already up-to-date!\n",
      "[nltk_data]    | Downloading package indian to\n",
      "[nltk_data]    |     /Users/konicapatait/nltk_data...\n",
      "[nltk_data]    |   Package indian is already up-to-date!\n",
      "[nltk_data]    | Downloading package jeita to\n",
      "[nltk_data]    |     /Users/konicapatait/nltk_data...\n",
      "[nltk_data]    |   Package jeita is already up-to-date!\n",
      "[nltk_data]    | Downloading package kimmo to\n",
      "[nltk_data]    |     /Users/konicapatait/nltk_data...\n",
      "[nltk_data]    |   Package kimmo is already up-to-date!\n",
      "[nltk_data]    | Downloading package knbc to\n",
      "[nltk_data]    |     /Users/konicapatait/nltk_data...\n",
      "[nltk_data]    |   Package knbc is already up-to-date!\n",
      "[nltk_data]    | Downloading package large_grammars to\n",
      "[nltk_data]    |     /Users/konicapatait/nltk_data...\n",
      "[nltk_data]    |   Package large_grammars is already up-to-date!\n",
      "[nltk_data]    | Downloading package lin_thesaurus to\n",
      "[nltk_data]    |     /Users/konicapatait/nltk_data...\n",
      "[nltk_data]    |   Package lin_thesaurus is already up-to-date!\n",
      "[nltk_data]    | Downloading package mac_morpho to\n",
      "[nltk_data]    |     /Users/konicapatait/nltk_data...\n",
      "[nltk_data]    |   Package mac_morpho is already up-to-date!\n",
      "[nltk_data]    | Downloading package machado to\n",
      "[nltk_data]    |     /Users/konicapatait/nltk_data...\n",
      "[nltk_data]    |   Package machado is already up-to-date!\n",
      "[nltk_data]    | Downloading package masc_tagged to\n",
      "[nltk_data]    |     /Users/konicapatait/nltk_data...\n",
      "[nltk_data]    |   Package masc_tagged is already up-to-date!\n",
      "[nltk_data]    | Downloading package maxent_ne_chunker to\n",
      "[nltk_data]    |     /Users/konicapatait/nltk_data...\n",
      "[nltk_data]    |   Package maxent_ne_chunker is already up-to-date!\n",
      "[nltk_data]    | Downloading package maxent_treebank_pos_tagger to\n",
      "[nltk_data]    |     /Users/konicapatait/nltk_data...\n",
      "[nltk_data]    |   Package maxent_treebank_pos_tagger is already up-\n",
      "[nltk_data]    |       to-date!\n",
      "[nltk_data]    | Downloading package moses_sample to\n",
      "[nltk_data]    |     /Users/konicapatait/nltk_data...\n",
      "[nltk_data]    |   Package moses_sample is already up-to-date!\n",
      "[nltk_data]    | Downloading package movie_reviews to\n",
      "[nltk_data]    |     /Users/konicapatait/nltk_data...\n",
      "[nltk_data]    |   Package movie_reviews is already up-to-date!\n",
      "[nltk_data]    | Downloading package mte_teip5 to\n",
      "[nltk_data]    |     /Users/konicapatait/nltk_data...\n",
      "[nltk_data]    |   Package mte_teip5 is already up-to-date!\n",
      "[nltk_data]    | Downloading package mwa_ppdb to\n",
      "[nltk_data]    |     /Users/konicapatait/nltk_data...\n",
      "[nltk_data]    |   Package mwa_ppdb is already up-to-date!\n",
      "[nltk_data]    | Downloading package names to\n",
      "[nltk_data]    |     /Users/konicapatait/nltk_data...\n",
      "[nltk_data]    |   Package names is already up-to-date!\n",
      "[nltk_data]    | Downloading package nombank.1.0 to\n",
      "[nltk_data]    |     /Users/konicapatait/nltk_data...\n",
      "[nltk_data]    |   Package nombank.1.0 is already up-to-date!\n",
      "[nltk_data]    | Downloading package nonbreaking_prefixes to\n",
      "[nltk_data]    |     /Users/konicapatait/nltk_data...\n",
      "[nltk_data]    |   Package nonbreaking_prefixes is already up-to-date!\n",
      "[nltk_data]    | Downloading package nps_chat to\n",
      "[nltk_data]    |     /Users/konicapatait/nltk_data...\n",
      "[nltk_data]    |   Package nps_chat is already up-to-date!\n",
      "[nltk_data]    | Downloading package omw to\n",
      "[nltk_data]    |     /Users/konicapatait/nltk_data...\n",
      "[nltk_data]    |   Package omw is already up-to-date!\n",
      "[nltk_data]    | Downloading package omw-1.4 to\n",
      "[nltk_data]    |     /Users/konicapatait/nltk_data...\n",
      "[nltk_data]    |   Package omw-1.4 is already up-to-date!\n",
      "[nltk_data]    | Downloading package opinion_lexicon to\n",
      "[nltk_data]    |     /Users/konicapatait/nltk_data...\n",
      "[nltk_data]    |   Package opinion_lexicon is already up-to-date!\n",
      "[nltk_data]    | Downloading package panlex_swadesh to\n",
      "[nltk_data]    |     /Users/konicapatait/nltk_data...\n",
      "[nltk_data]    |   Package panlex_swadesh is already up-to-date!\n",
      "[nltk_data]    | Downloading package paradigms to\n",
      "[nltk_data]    |     /Users/konicapatait/nltk_data...\n",
      "[nltk_data]    |   Package paradigms is already up-to-date!\n",
      "[nltk_data]    | Downloading package pe08 to\n",
      "[nltk_data]    |     /Users/konicapatait/nltk_data...\n",
      "[nltk_data]    |   Package pe08 is already up-to-date!\n",
      "[nltk_data]    | Downloading package perluniprops to\n",
      "[nltk_data]    |     /Users/konicapatait/nltk_data...\n",
      "[nltk_data]    |   Package perluniprops is already up-to-date!\n",
      "[nltk_data]    | Downloading package pil to\n",
      "[nltk_data]    |     /Users/konicapatait/nltk_data...\n",
      "[nltk_data]    |   Package pil is already up-to-date!\n",
      "[nltk_data]    | Downloading package pl196x to\n",
      "[nltk_data]    |     /Users/konicapatait/nltk_data...\n",
      "[nltk_data]    |   Package pl196x is already up-to-date!\n",
      "[nltk_data]    | Downloading package porter_test to\n",
      "[nltk_data]    |     /Users/konicapatait/nltk_data...\n",
      "[nltk_data]    |   Package porter_test is already up-to-date!\n",
      "[nltk_data]    | Downloading package ppattach to\n",
      "[nltk_data]    |     /Users/konicapatait/nltk_data...\n",
      "[nltk_data]    |   Package ppattach is already up-to-date!\n",
      "[nltk_data]    | Downloading package problem_reports to\n",
      "[nltk_data]    |     /Users/konicapatait/nltk_data...\n",
      "[nltk_data]    |   Package problem_reports is already up-to-date!\n",
      "[nltk_data]    | Downloading package product_reviews_1 to\n",
      "[nltk_data]    |     /Users/konicapatait/nltk_data...\n",
      "[nltk_data]    |   Package product_reviews_1 is already up-to-date!\n",
      "[nltk_data]    | Downloading package product_reviews_2 to\n",
      "[nltk_data]    |     /Users/konicapatait/nltk_data...\n",
      "[nltk_data]    |   Package product_reviews_2 is already up-to-date!\n",
      "[nltk_data]    | Downloading package propbank to\n",
      "[nltk_data]    |     /Users/konicapatait/nltk_data...\n",
      "[nltk_data]    |   Package propbank is already up-to-date!\n",
      "[nltk_data]    | Downloading package pros_cons to\n",
      "[nltk_data]    |     /Users/konicapatait/nltk_data...\n",
      "[nltk_data]    |   Package pros_cons is already up-to-date!\n",
      "[nltk_data]    | Downloading package ptb to\n",
      "[nltk_data]    |     /Users/konicapatait/nltk_data...\n",
      "[nltk_data]    |   Package ptb is already up-to-date!\n",
      "[nltk_data]    | Downloading package punkt to\n",
      "[nltk_data]    |     /Users/konicapatait/nltk_data...\n",
      "[nltk_data]    |   Package punkt is already up-to-date!\n",
      "[nltk_data]    | Downloading package qc to\n",
      "[nltk_data]    |     /Users/konicapatait/nltk_data...\n",
      "[nltk_data]    |   Package qc is already up-to-date!\n",
      "[nltk_data]    | Downloading package reuters to\n",
      "[nltk_data]    |     /Users/konicapatait/nltk_data...\n",
      "[nltk_data]    |   Package reuters is already up-to-date!\n",
      "[nltk_data]    | Downloading package rslp to\n",
      "[nltk_data]    |     /Users/konicapatait/nltk_data...\n",
      "[nltk_data]    |   Package rslp is already up-to-date!\n",
      "[nltk_data]    | Downloading package rte to\n",
      "[nltk_data]    |     /Users/konicapatait/nltk_data...\n",
      "[nltk_data]    |   Package rte is already up-to-date!\n",
      "[nltk_data]    | Downloading package sample_grammars to\n",
      "[nltk_data]    |     /Users/konicapatait/nltk_data...\n",
      "[nltk_data]    |   Package sample_grammars is already up-to-date!\n",
      "[nltk_data]    | Downloading package semcor to\n",
      "[nltk_data]    |     /Users/konicapatait/nltk_data...\n",
      "[nltk_data]    |   Package semcor is already up-to-date!\n",
      "[nltk_data]    | Downloading package senseval to\n",
      "[nltk_data]    |     /Users/konicapatait/nltk_data...\n",
      "[nltk_data]    |   Package senseval is already up-to-date!\n",
      "[nltk_data]    | Downloading package sentence_polarity to\n",
      "[nltk_data]    |     /Users/konicapatait/nltk_data...\n",
      "[nltk_data]    |   Package sentence_polarity is already up-to-date!\n",
      "[nltk_data]    | Downloading package sentiwordnet to\n",
      "[nltk_data]    |     /Users/konicapatait/nltk_data...\n",
      "[nltk_data]    |   Package sentiwordnet is already up-to-date!\n",
      "[nltk_data]    | Downloading package shakespeare to\n",
      "[nltk_data]    |     /Users/konicapatait/nltk_data...\n",
      "[nltk_data]    |   Package shakespeare is already up-to-date!\n",
      "[nltk_data]    | Downloading package sinica_treebank to\n",
      "[nltk_data]    |     /Users/konicapatait/nltk_data...\n",
      "[nltk_data]    |   Package sinica_treebank is already up-to-date!\n",
      "[nltk_data]    | Downloading package smultron to\n",
      "[nltk_data]    |     /Users/konicapatait/nltk_data...\n",
      "[nltk_data]    |   Package smultron is already up-to-date!\n",
      "[nltk_data]    | Downloading package snowball_data to\n",
      "[nltk_data]    |     /Users/konicapatait/nltk_data...\n",
      "[nltk_data]    |   Package snowball_data is already up-to-date!\n",
      "[nltk_data]    | Downloading package spanish_grammars to\n",
      "[nltk_data]    |     /Users/konicapatait/nltk_data...\n",
      "[nltk_data]    |   Package spanish_grammars is already up-to-date!\n",
      "[nltk_data]    | Downloading package state_union to\n",
      "[nltk_data]    |     /Users/konicapatait/nltk_data...\n",
      "[nltk_data]    |   Package state_union is already up-to-date!\n",
      "[nltk_data]    | Downloading package stopwords to\n",
      "[nltk_data]    |     /Users/konicapatait/nltk_data...\n",
      "[nltk_data]    |   Package stopwords is already up-to-date!\n",
      "[nltk_data]    | Downloading package subjectivity to\n",
      "[nltk_data]    |     /Users/konicapatait/nltk_data...\n",
      "[nltk_data]    |   Package subjectivity is already up-to-date!\n",
      "[nltk_data]    | Downloading package swadesh to\n",
      "[nltk_data]    |     /Users/konicapatait/nltk_data...\n",
      "[nltk_data]    |   Package swadesh is already up-to-date!\n",
      "[nltk_data]    | Downloading package switchboard to\n",
      "[nltk_data]    |     /Users/konicapatait/nltk_data...\n",
      "[nltk_data]    |   Package switchboard is already up-to-date!\n",
      "[nltk_data]    | Downloading package tagsets to\n",
      "[nltk_data]    |     /Users/konicapatait/nltk_data...\n",
      "[nltk_data]    |   Package tagsets is already up-to-date!\n",
      "[nltk_data]    | Downloading package timit to\n",
      "[nltk_data]    |     /Users/konicapatait/nltk_data...\n",
      "[nltk_data]    |   Package timit is already up-to-date!\n",
      "[nltk_data]    | Downloading package toolbox to\n",
      "[nltk_data]    |     /Users/konicapatait/nltk_data...\n",
      "[nltk_data]    |   Package toolbox is already up-to-date!\n",
      "[nltk_data]    | Downloading package treebank to\n",
      "[nltk_data]    |     /Users/konicapatait/nltk_data...\n",
      "[nltk_data]    |   Package treebank is already up-to-date!\n",
      "[nltk_data]    | Downloading package twitter_samples to\n",
      "[nltk_data]    |     /Users/konicapatait/nltk_data...\n",
      "[nltk_data]    |   Package twitter_samples is already up-to-date!\n",
      "[nltk_data]    | Downloading package udhr to\n",
      "[nltk_data]    |     /Users/konicapatait/nltk_data...\n",
      "[nltk_data]    |   Package udhr is already up-to-date!\n",
      "[nltk_data]    | Downloading package udhr2 to\n",
      "[nltk_data]    |     /Users/konicapatait/nltk_data...\n",
      "[nltk_data]    |   Package udhr2 is already up-to-date!\n",
      "[nltk_data]    | Downloading package unicode_samples to\n",
      "[nltk_data]    |     /Users/konicapatait/nltk_data...\n",
      "[nltk_data]    |   Package unicode_samples is already up-to-date!\n",
      "[nltk_data]    | Downloading package universal_tagset to\n",
      "[nltk_data]    |     /Users/konicapatait/nltk_data...\n",
      "[nltk_data]    |   Package universal_tagset is already up-to-date!\n",
      "[nltk_data]    | Downloading package universal_treebanks_v20 to\n",
      "[nltk_data]    |     /Users/konicapatait/nltk_data...\n",
      "[nltk_data]    |   Package universal_treebanks_v20 is already up-to-\n",
      "[nltk_data]    |       date!\n",
      "[nltk_data]    | Downloading package vader_lexicon to\n",
      "[nltk_data]    |     /Users/konicapatait/nltk_data...\n",
      "[nltk_data]    |   Package vader_lexicon is already up-to-date!\n",
      "[nltk_data]    | Downloading package verbnet to\n",
      "[nltk_data]    |     /Users/konicapatait/nltk_data...\n",
      "[nltk_data]    |   Package verbnet is already up-to-date!\n",
      "[nltk_data]    | Downloading package verbnet3 to\n",
      "[nltk_data]    |     /Users/konicapatait/nltk_data...\n",
      "[nltk_data]    |   Package verbnet3 is already up-to-date!\n",
      "[nltk_data]    | Downloading package webtext to\n",
      "[nltk_data]    |     /Users/konicapatait/nltk_data...\n",
      "[nltk_data]    |   Package webtext is already up-to-date!\n",
      "[nltk_data]    | Downloading package wmt15_eval to\n",
      "[nltk_data]    |     /Users/konicapatait/nltk_data...\n",
      "[nltk_data]    |   Package wmt15_eval is already up-to-date!\n",
      "[nltk_data]    | Downloading package word2vec_sample to\n",
      "[nltk_data]    |     /Users/konicapatait/nltk_data...\n",
      "[nltk_data]    |   Package word2vec_sample is already up-to-date!\n",
      "[nltk_data]    | Downloading package wordnet to\n",
      "[nltk_data]    |     /Users/konicapatait/nltk_data...\n",
      "[nltk_data]    |   Package wordnet is already up-to-date!\n",
      "[nltk_data]    | Downloading package wordnet2021 to\n",
      "[nltk_data]    |     /Users/konicapatait/nltk_data...\n",
      "[nltk_data]    |   Package wordnet2021 is already up-to-date!\n",
      "[nltk_data]    | Downloading package wordnet2022 to\n",
      "[nltk_data]    |     /Users/konicapatait/nltk_data...\n",
      "[nltk_data]    |   Package wordnet2022 is already up-to-date!\n",
      "[nltk_data]    | Downloading package wordnet31 to\n",
      "[nltk_data]    |     /Users/konicapatait/nltk_data...\n",
      "[nltk_data]    |   Package wordnet31 is already up-to-date!\n",
      "[nltk_data]    | Downloading package wordnet_ic to\n",
      "[nltk_data]    |     /Users/konicapatait/nltk_data...\n",
      "[nltk_data]    |   Package wordnet_ic is already up-to-date!\n",
      "[nltk_data]    | Downloading package words to\n",
      "[nltk_data]    |     /Users/konicapatait/nltk_data...\n",
      "[nltk_data]    |   Package words is already up-to-date!\n",
      "[nltk_data]    | Downloading package ycoe to\n",
      "[nltk_data]    |     /Users/konicapatait/nltk_data...\n",
      "[nltk_data]    |   Package ycoe is already up-to-date!\n",
      "[nltk_data]    | \n",
      "[nltk_data]  Done downloading collection all\n"
     ]
    },
    {
     "name": "stdout",
     "output_type": "stream",
     "text": [
      "Requirement already satisfied: wordcloud in /Users/konicapatait/anaconda3/lib/python3.11/site-packages (1.9.2)\n",
      "Requirement already satisfied: numpy>=1.6.1 in /Users/konicapatait/anaconda3/lib/python3.11/site-packages (from wordcloud) (1.24.3)\n",
      "Requirement already satisfied: pillow in /Users/konicapatait/anaconda3/lib/python3.11/site-packages (from wordcloud) (9.4.0)\n",
      "Requirement already satisfied: matplotlib in /Users/konicapatait/anaconda3/lib/python3.11/site-packages (from wordcloud) (3.7.1)\n",
      "Requirement already satisfied: contourpy>=1.0.1 in /Users/konicapatait/anaconda3/lib/python3.11/site-packages (from matplotlib->wordcloud) (1.0.5)\n",
      "Requirement already satisfied: cycler>=0.10 in /Users/konicapatait/anaconda3/lib/python3.11/site-packages (from matplotlib->wordcloud) (0.11.0)\n",
      "Requirement already satisfied: fonttools>=4.22.0 in /Users/konicapatait/anaconda3/lib/python3.11/site-packages (from matplotlib->wordcloud) (4.25.0)\n",
      "Requirement already satisfied: kiwisolver>=1.0.1 in /Users/konicapatait/anaconda3/lib/python3.11/site-packages (from matplotlib->wordcloud) (1.4.4)\n",
      "Requirement already satisfied: packaging>=20.0 in /Users/konicapatait/anaconda3/lib/python3.11/site-packages (from matplotlib->wordcloud) (23.0)\n",
      "Requirement already satisfied: pyparsing>=2.3.1 in /Users/konicapatait/anaconda3/lib/python3.11/site-packages (from matplotlib->wordcloud) (3.0.9)\n",
      "Requirement already satisfied: python-dateutil>=2.7 in /Users/konicapatait/anaconda3/lib/python3.11/site-packages (from matplotlib->wordcloud) (2.8.2)\n",
      "Requirement already satisfied: six>=1.5 in /Users/konicapatait/anaconda3/lib/python3.11/site-packages (from python-dateutil>=2.7->matplotlib->wordcloud) (1.16.0)\n",
      "Requirement already satisfied: xgboost in /Users/konicapatait/anaconda3/lib/python3.11/site-packages (2.0.0)\n",
      "Requirement already satisfied: numpy in /Users/konicapatait/anaconda3/lib/python3.11/site-packages (from xgboost) (1.24.3)\n",
      "Requirement already satisfied: scipy in /Users/konicapatait/anaconda3/lib/python3.11/site-packages (from xgboost) (1.10.1)\n"
     ]
    }
   ],
   "source": [
    "#One Time Execution\n",
    "import nltk\n",
    "nltk.download('all')\n",
    "\n",
    "!pip install wordcloud\n",
    "!pip install xgboost\n",
    "!export PATH=/Library/TeX/texbin:$PATH"
   ]
  },
  {
   "cell_type": "markdown",
   "id": "1eb24478-143c-489f-bd1e-450148139fc3",
   "metadata": {},
   "source": [
    "## Importing Libraries"
   ]
  },
  {
   "cell_type": "code",
   "execution_count": 2,
   "id": "86cbe2fe-8c8b-4cc2-89db-16830c1c0553",
   "metadata": {
    "tags": []
   },
   "outputs": [],
   "source": [
    "import pandas as pd\n",
    "import numpy as np\n",
    "import seaborn as sns\n",
    "\n",
    "import matplotlib.pyplot as plt\n",
    "\n",
    "from sklearn.model_selection import train_test_split,GridSearchCV\n",
    "from sklearn.metrics import accuracy_score\n",
    "from sklearn.metrics import classification_report\n",
    "from sklearn.feature_extraction.text import TfidfVectorizer\n",
    "from sklearn.linear_model import PassiveAggressiveClassifier\n",
    "from sklearn.ensemble import GradientBoostingClassifier\n",
    "\n",
    "from sklearn import svm\n",
    "from xgboost import XGBClassifier\n",
    "\n",
    "\n",
    "from nltk.corpus import stopwords\n",
    "from nltk.tokenize import sent_tokenize, word_tokenize\n",
    "from nltk.stem import PorterStemmer\n",
    "\n",
    "from wordcloud import WordCloud \n",
    "\n",
    "import time\n",
    "import re"
   ]
  },
  {
   "cell_type": "markdown",
   "id": "53284031-4149-4629-bbad-f61386c9d1ac",
   "metadata": {},
   "source": [
    "## Read the data"
   ]
  },
  {
   "cell_type": "code",
   "execution_count": 3,
   "id": "a6034eb6-1899-4b8d-ba1f-8e86cf6b66f0",
   "metadata": {
    "tags": []
   },
   "outputs": [
    {
     "name": "stdout",
     "output_type": "stream",
     "text": [
      "Fake dataset have the shape: (23481, 4) and True dataset have the shape: (21417, 4)\n"
     ]
    },
    {
     "data": {
      "text/html": [
       "<div>\n",
       "<style scoped>\n",
       "    .dataframe tbody tr th:only-of-type {\n",
       "        vertical-align: middle;\n",
       "    }\n",
       "\n",
       "    .dataframe tbody tr th {\n",
       "        vertical-align: top;\n",
       "    }\n",
       "\n",
       "    .dataframe thead th {\n",
       "        text-align: right;\n",
       "    }\n",
       "</style>\n",
       "<table border=\"1\" class=\"dataframe\">\n",
       "  <thead>\n",
       "    <tr style=\"text-align: right;\">\n",
       "      <th></th>\n",
       "      <th>title</th>\n",
       "      <th>text</th>\n",
       "      <th>subject</th>\n",
       "      <th>date</th>\n",
       "    </tr>\n",
       "  </thead>\n",
       "  <tbody>\n",
       "    <tr>\n",
       "      <th>0</th>\n",
       "      <td>Donald Trump Sends Out Embarrassing New Year’...</td>\n",
       "      <td>Donald Trump just couldn t wish all Americans ...</td>\n",
       "      <td>News</td>\n",
       "      <td>December 31, 2017</td>\n",
       "    </tr>\n",
       "    <tr>\n",
       "      <th>1</th>\n",
       "      <td>Drunk Bragging Trump Staffer Started Russian ...</td>\n",
       "      <td>House Intelligence Committee Chairman Devin Nu...</td>\n",
       "      <td>News</td>\n",
       "      <td>December 31, 2017</td>\n",
       "    </tr>\n",
       "    <tr>\n",
       "      <th>2</th>\n",
       "      <td>Sheriff David Clarke Becomes An Internet Joke...</td>\n",
       "      <td>On Friday, it was revealed that former Milwauk...</td>\n",
       "      <td>News</td>\n",
       "      <td>December 30, 2017</td>\n",
       "    </tr>\n",
       "    <tr>\n",
       "      <th>3</th>\n",
       "      <td>Trump Is So Obsessed He Even Has Obama’s Name...</td>\n",
       "      <td>On Christmas day, Donald Trump announced that ...</td>\n",
       "      <td>News</td>\n",
       "      <td>December 29, 2017</td>\n",
       "    </tr>\n",
       "    <tr>\n",
       "      <th>4</th>\n",
       "      <td>Pope Francis Just Called Out Donald Trump Dur...</td>\n",
       "      <td>Pope Francis used his annual Christmas Day mes...</td>\n",
       "      <td>News</td>\n",
       "      <td>December 25, 2017</td>\n",
       "    </tr>\n",
       "  </tbody>\n",
       "</table>\n",
       "</div>"
      ],
      "text/plain": [
       "                                               title  \\\n",
       "0   Donald Trump Sends Out Embarrassing New Year’...   \n",
       "1   Drunk Bragging Trump Staffer Started Russian ...   \n",
       "2   Sheriff David Clarke Becomes An Internet Joke...   \n",
       "3   Trump Is So Obsessed He Even Has Obama’s Name...   \n",
       "4   Pope Francis Just Called Out Donald Trump Dur...   \n",
       "\n",
       "                                                text subject  \\\n",
       "0  Donald Trump just couldn t wish all Americans ...    News   \n",
       "1  House Intelligence Committee Chairman Devin Nu...    News   \n",
       "2  On Friday, it was revealed that former Milwauk...    News   \n",
       "3  On Christmas day, Donald Trump announced that ...    News   \n",
       "4  Pope Francis used his annual Christmas Day mes...    News   \n",
       "\n",
       "                date  \n",
       "0  December 31, 2017  \n",
       "1  December 31, 2017  \n",
       "2  December 30, 2017  \n",
       "3  December 29, 2017  \n",
       "4  December 25, 2017  "
      ]
     },
     "execution_count": 3,
     "metadata": {},
     "output_type": "execute_result"
    }
   ],
   "source": [
    "fake_news = pd.read_csv(\"./data/Fake.csv\")\n",
    "true_news = pd.read_csv(\"./data/True.csv\")\n",
    "print(f\"Fake dataset have the shape: {fake_news.shape} and True dataset have the shape: {true_news.shape}\")\n",
    "fake_news.head()"
   ]
  },
  {
   "cell_type": "markdown",
   "id": "536bbdca-ce78-49d9-a7c1-2d79c7155dc6",
   "metadata": {
    "tags": []
   },
   "source": [
    "# Merge and Shuffle the dataset"
   ]
  },
  {
   "cell_type": "code",
   "execution_count": 5,
   "id": "6975cb59-29a2-47c0-956f-e4e531bb1bed",
   "metadata": {
    "tags": []
   },
   "outputs": [
    {
     "data": {
      "text/html": [
       "<div>\n",
       "<style scoped>\n",
       "    .dataframe tbody tr th:only-of-type {\n",
       "        vertical-align: middle;\n",
       "    }\n",
       "\n",
       "    .dataframe tbody tr th {\n",
       "        vertical-align: top;\n",
       "    }\n",
       "\n",
       "    .dataframe thead th {\n",
       "        text-align: right;\n",
       "    }\n",
       "</style>\n",
       "<table border=\"1\" class=\"dataframe\">\n",
       "  <thead>\n",
       "    <tr style=\"text-align: right;\">\n",
       "      <th></th>\n",
       "      <th>title</th>\n",
       "      <th>text</th>\n",
       "      <th>subject</th>\n",
       "      <th>date</th>\n",
       "      <th>isFake</th>\n",
       "    </tr>\n",
       "  </thead>\n",
       "  <tbody>\n",
       "    <tr>\n",
       "      <th>12282</th>\n",
       "      <td>Iraqi Shi'ite paramilitary chief seeks to put ...</td>\n",
       "      <td>BAGHDAD (Reuters) - The commander of Iraq s bi...</td>\n",
       "      <td>worldnews</td>\n",
       "      <td>December 14, 2017</td>\n",
       "      <td>0</td>\n",
       "    </tr>\n",
       "    <tr>\n",
       "      <th>562</th>\n",
       "      <td>Protesters Welcome Trump Home To His Golden T...</td>\n",
       "      <td>Donald Trump has not been having a good weeken...</td>\n",
       "      <td>News</td>\n",
       "      <td>August 15, 2017</td>\n",
       "      <td>1</td>\n",
       "    </tr>\n",
       "    <tr>\n",
       "      <th>15010</th>\n",
       "      <td>At least one person dead, 50 wounded in Iraq a...</td>\n",
       "      <td>ERBIL, Iraq (Reuters) - At least one person di...</td>\n",
       "      <td>worldnews</td>\n",
       "      <td>November 12, 2017</td>\n",
       "      <td>0</td>\n",
       "    </tr>\n",
       "    <tr>\n",
       "      <th>12636</th>\n",
       "      <td>Palestinians to snub Pence during visit over J...</td>\n",
       "      <td>CAIRO/GAZA (Reuters) - Palestinian President M...</td>\n",
       "      <td>worldnews</td>\n",
       "      <td>December 9, 2017</td>\n",
       "      <td>0</td>\n",
       "    </tr>\n",
       "    <tr>\n",
       "      <th>6937</th>\n",
       "      <td>Ben Stein Hilariously Bashes Trump, Tells Him...</td>\n",
       "      <td>Ben Stein is on a Trump-bashing spree again, a...</td>\n",
       "      <td>News</td>\n",
       "      <td>April 12, 2016</td>\n",
       "      <td>1</td>\n",
       "    </tr>\n",
       "  </tbody>\n",
       "</table>\n",
       "</div>"
      ],
      "text/plain": [
       "                                                   title  \\\n",
       "12282  Iraqi Shi'ite paramilitary chief seeks to put ...   \n",
       "562     Protesters Welcome Trump Home To His Golden T...   \n",
       "15010  At least one person dead, 50 wounded in Iraq a...   \n",
       "12636  Palestinians to snub Pence during visit over J...   \n",
       "6937    Ben Stein Hilariously Bashes Trump, Tells Him...   \n",
       "\n",
       "                                                    text    subject  \\\n",
       "12282  BAGHDAD (Reuters) - The commander of Iraq s bi...  worldnews   \n",
       "562    Donald Trump has not been having a good weeken...       News   \n",
       "15010  ERBIL, Iraq (Reuters) - At least one person di...  worldnews   \n",
       "12636  CAIRO/GAZA (Reuters) - Palestinian President M...  worldnews   \n",
       "6937   Ben Stein is on a Trump-bashing spree again, a...       News   \n",
       "\n",
       "                     date  isFake  \n",
       "12282  December 14, 2017        0  \n",
       "562       August 15, 2017       1  \n",
       "15010  November 12, 2017        0  \n",
       "12636   December 9, 2017        0  \n",
       "6937       April 12, 2016       1  "
      ]
     },
     "execution_count": 5,
     "metadata": {},
     "output_type": "execute_result"
    }
   ],
   "source": [
    "fake_news['isFake'] = 1\n",
    "true_news['isFake'] = 0\n",
    "\n",
    "df_merge = pd.concat([fake_news, true_news], axis =0 )\n",
    "\n",
    "df_merge = df_merge.sample(frac=1)\n",
    "df_merge.head(5)"
   ]
  },
  {
   "cell_type": "markdown",
   "id": "60c6a560-9e72-42cc-b5bc-8b35cfe85a98",
   "metadata": {},
   "source": [
    "## Data Exploration"
   ]
  },
  {
   "cell_type": "code",
   "execution_count": 6,
   "id": "e794e451-bca0-499d-88af-5bbe34f8fd5d",
   "metadata": {
    "tags": []
   },
   "outputs": [
    {
     "data": {
      "text/html": [
       "<div>\n",
       "<style scoped>\n",
       "    .dataframe tbody tr th:only-of-type {\n",
       "        vertical-align: middle;\n",
       "    }\n",
       "\n",
       "    .dataframe tbody tr th {\n",
       "        vertical-align: top;\n",
       "    }\n",
       "\n",
       "    .dataframe thead th {\n",
       "        text-align: right;\n",
       "    }\n",
       "</style>\n",
       "<table border=\"1\" class=\"dataframe\">\n",
       "  <thead>\n",
       "    <tr style=\"text-align: right;\">\n",
       "      <th></th>\n",
       "      <th>title</th>\n",
       "      <th>text</th>\n",
       "      <th>subject</th>\n",
       "      <th>date</th>\n",
       "      <th>isFake</th>\n",
       "    </tr>\n",
       "  </thead>\n",
       "  <tbody>\n",
       "  </tbody>\n",
       "</table>\n",
       "</div>"
      ],
      "text/plain": [
       "Empty DataFrame\n",
       "Columns: [title, text, subject, date, isFake]\n",
       "Index: []"
      ]
     },
     "execution_count": 6,
     "metadata": {},
     "output_type": "execute_result"
    }
   ],
   "source": [
    "\n",
    "df_nullvalues = df_merge[(df_merge.title.isnull()==True) | (df_merge.text.isnull()==True)| (df_merge.subject.isnull()==True) | (df_merge.date.isnull()==True)] \n",
    "df_nullvalues"
   ]
  },
  {
   "cell_type": "markdown",
   "id": "044cf978-770c-4d15-8dd0-f6477fc841ec",
   "metadata": {
    "tags": []
   },
   "source": [
    "### Tokenized Text"
   ]
  },
  {
   "cell_type": "code",
   "execution_count": 6,
   "id": "673ec13c-586e-4d51-a2b1-66ddedc0f057",
   "metadata": {
    "tags": []
   },
   "outputs": [
    {
     "name": "stdout",
     "output_type": "stream",
     "text": [
      "Elapsed time: 4.593972635269165 minutes\n",
      "                                                   title  \\\n",
      "5483   Trump evaluating national security adviser Fly...   \n",
      "672    Vietnam, China avoid quarrel over South China ...   \n",
      "73     White House aide sees temporary funding fix fo...   \n",
      "2572   Russian banker who met Trump son-in-law not ac...   \n",
      "16090  Cameroon court sentences opposition leader to ...   \n",
      "\n",
      "                                                    text       subject  \\\n",
      "5483   WASHINGTON (Reuters) - President Donald Trump ...  politicsNews   \n",
      "672    (Reuters) - China and Vietnam avoided conflict...  politicsNews   \n",
      "73     WASHINGTON (Reuters) - A short-term fix to fun...  politicsNews   \n",
      "2572   MOSCOW (Reuters) - A senior Russian banker who...  politicsNews   \n",
      "16090  DOUALA, Cameroon (Reuters) - A military court ...     worldnews   \n",
      "\n",
      "                     date  isFake  \\\n",
      "5483   February 13, 2017        0   \n",
      "672    November 12, 2017        0   \n",
      "73     December 20, 2017        0   \n",
      "2572       July 25, 2017        0   \n",
      "16090   October 30, 2017        0   \n",
      "\n",
      "                                                   words  \n",
      "5483   [washington, (, reuter, ), -, presid, donald, ...  \n",
      "672    [(, reuter, ), -, china, and, vietnam, avoid, ...  \n",
      "73     [washington, (, reuter, ), -, a, short-term, f...  \n",
      "2572   [moscow, (, reuter, ), -, a, senior, russian, ...  \n",
      "16090  [douala, ,, cameroon, (, reuter, ), -, a, mili...  \n"
     ]
    }
   ],
   "source": [
    "\n",
    "\n",
    "start_time = time.time()\n",
    "stemmer = PorterStemmer()\n",
    "\n",
    "alltokeninzed_words = []\n",
    "for text in df_merge.text:\n",
    "    tokenized_words = word_tokenize(str(text))\n",
    "    stemmed_words = []                               \n",
    "    for tokenized_word in tokenized_words:\n",
    "        stemmed_word = stemmer.stem(tokenized_word)\n",
    "        stemmed_words.append(stemmed_word)                           \n",
    "    alltokeninzed_words.append(stemmed_words)\n",
    "\n",
    "df_merge['words'] = alltokeninzed_words\n",
    "\n",
    "end_time = time.time()\n",
    "elapsed_time = (end_time - start_time)/60\n",
    "print(f\"Elapsed time: {elapsed_time} minutes\" ) \n",
    "print(df_merge.head())"
   ]
  },
  {
   "cell_type": "markdown",
   "id": "a8d5c9ca-acee-4c8d-b7c0-fb397419fdda",
   "metadata": {},
   "source": [
    "### Word Cloud"
   ]
  },
  {
   "cell_type": "code",
   "execution_count": 7,
   "id": "81f5a3e7-9483-420a-8f87-eb9dca8f725d",
   "metadata": {
    "tags": []
   },
   "outputs": [
    {
     "name": "stdout",
     "output_type": "stream",
     "text": [
      "Fake News:\n",
      " title       70% Of Republican High Rollers Want Trump Out...\n",
      "text       Donald Trump has been an absolute nightmare fo...\n",
      "subject                                                 News\n",
      "date                                          August 6, 2016\n",
      "isFake                                                     1\n",
      "words      [donald, trump, ha, been, an, absolut, nightma...\n",
      "Name: 5160, dtype: object\n"
     ]
    },
    {
     "data": {
      "image/png": "[encoded data removed]",
      "text/plain": [
       "<Figure size 640x480 with 1 Axes>"
      ]
     },
     "metadata": {},
     "output_type": "display_data"
    }
   ],
   "source": [
    "# Fake news\n",
    "\n",
    "\n",
    "fake_news = df_merge.loc[(df_merge['isFake'] == 1)].iloc[0]\n",
    "\n",
    "print(f'Fake News:\\n {fake_news}')\n",
    "wordCloud = WordCloud(background_color=\"black\", max_words=3000, max_font_size=256,\n",
    "               random_state=13, width=1500, height=1500, prefer_horizontal=0.5)\n",
    "wordCloud.generate(str(fake_news))\n",
    "plt.imshow(wordCloud)\n",
    "plt.axis('off')\n",
    "plt.show()"
   ]
  },
  {
   "cell_type": "code",
   "execution_count": 8,
   "id": "0ef9b874-7d9a-4871-93d6-d1533d9a1406",
   "metadata": {
    "tags": []
   },
   "outputs": [
    {
     "name": "stdout",
     "output_type": "stream",
     "text": [
      "Genuine News: title      Trump evaluating national security adviser Fly...\n",
      "text       WASHINGTON (Reuters) - President Donald Trump ...\n",
      "subject                                         politicsNews\n",
      "date                                      February 13, 2017 \n",
      "isFake                                                     0\n",
      "words      [washington, (, reuter, ), -, presid, donald, ...\n",
      "Name: 5483, dtype: object\n"
     ]
    },
    {
     "data": {
      "image/png": "[encoded data removed]",
      "text/plain": [
       "<Figure size 640x480 with 1 Axes>"
      ]
     },
     "metadata": {},
     "output_type": "display_data"
    }
   ],
   "source": [
    "# Genuine News\n",
    "\n",
    "genuine_news = df_merge.loc[(df_merge['isFake'] == 0)].iloc[0]\n",
    "print(f'Genuine News: {genuine_news}')\n",
    "wordCloud = WordCloud(background_color=\"black\", max_words=3000, max_font_size=256,\n",
    "               random_state=13, width=1500, height=1500, prefer_horizontal=0.5)\n",
    "wordCloud.generate(str(genuine_news))\n",
    "plt.imshow(wordCloud)\n",
    "plt.axis('off')\n",
    "plt.show()"
   ]
  },
  {
   "cell_type": "markdown",
   "id": "cf5edf42-dc35-4f9d-96d4-4182928b91c5",
   "metadata": {
    "tags": []
   },
   "source": [
    "## Dataset Splitting"
   ]
  },
  {
   "cell_type": "code",
   "execution_count": 9,
   "id": "72b9c3a0-9314-4f09-baaa-bd57097f5470",
   "metadata": {},
   "outputs": [
    {
     "name": "stdout",
     "output_type": "stream",
     "text": [
      "(44898,) (44898,)\n",
      "22744    21st Century wire says The FBI recently releas...\n",
      "7369     Republican presidential frontrunner Donald Tru...\n",
      "1818     WASHINGTON (Reuters) - The U.S. government on ...\n",
      "16481    Philip Haney is a lone Patriot in the war on e...\n",
      "13533    When Black Lives Matter supporters use the sam...\n",
      "Name: text, dtype: object\n",
      "22744    1\n",
      "7369     1\n",
      "1818     0\n",
      "16481    1\n",
      "13533    1\n",
      "Name: isFake, dtype: int64\n"
     ]
    }
   ],
   "source": [
    "x = df_merge['text']\n",
    "y = df_merge['isFake']\n",
    "x_train, x_test, y_train, y_test = train_test_split(x, y, test_size=0.25)\n",
    "print(x.shape, y.shape)\n",
    "print(x_train.head())\n",
    "print(y_train.head())"
   ]
  },
  {
   "cell_type": "code",
   "execution_count": 10,
   "id": "c2a82e35-d208-4d36-84ac-bccc67c9c895",
   "metadata": {
    "tags": []
   },
   "outputs": [
    {
     "name": "stdout",
     "output_type": "stream",
     "text": [
      "(44898,) (44898,)\n",
      "15255    geneva ( reuter ) - the 400,000 civilian besie...\n",
      "16171    juba , south sudan/kitchanga , democrat republ...\n",
      "13204    dubai ( reuter ) - offici in ali abdullah sale...\n",
      "19033    berlin/pari ( reuter ) - german chancellor ang...\n",
      "1242     if you are look for somewher to drink while yo...\n",
      "Name: words, dtype: object\n",
      "15255    0\n",
      "16171    0\n",
      "13204    0\n",
      "19033    0\n",
      "1242     1\n",
      "Name: isFake, dtype: int64\n"
     ]
    }
   ],
   "source": [
    "\n",
    "xw = df_merge['words']\n",
    "yw = df_merge['isFake']\n",
    "\n",
    "xw_string = xw.apply(lambda x: ' '.join(x))\n",
    "xw_train, xw_test, yw_train, yw_test = train_test_split(xw_string, yw, test_size=0.25)\n",
    "print(xw.shape, yw.shape)\n",
    "print(xw_train.head())\n",
    "print(yw_train.head())"
   ]
  },
  {
   "cell_type": "markdown",
   "id": "599a7e39-3ed3-4256-bef1-ae9073558a0a",
   "metadata": {},
   "source": [
    "## Model Selection"
   ]
  },
  {
   "cell_type": "markdown",
   "id": "79500ece-5a6c-4a82-9b29-c0744f574c85",
   "metadata": {},
   "source": [
    "### 1. Passive Aggresive Classifier"
   ]
  },
  {
   "cell_type": "code",
   "execution_count": 10,
   "id": "14ed3bd6-8900-4c57-8084-79d693362fd4",
   "metadata": {
    "tags": []
   },
   "outputs": [],
   "source": [
    "vectorizer = TfidfVectorizer()\n",
    "\n",
    "# transforming\n",
    "tfidf_train = vectorizer.fit_transform(x_train)\n",
    "tfidf_test = vectorizer.transform(x_test)"
   ]
  },
  {
   "cell_type": "code",
   "execution_count": 12,
   "id": "a67d308b-f69d-4053-a366-c3db5bf75957",
   "metadata": {},
   "outputs": [],
   "source": [
    "vectorizerW = TfidfVectorizer()\n",
    "# max_features=5000\n",
    "# transforming words\n",
    "tfidfw_train = vectorizerW.fit_transform(xw_train)\n",
    "tfidfw_test = vectorizerW.transform(xw_test)"
   ]
  },
  {
   "cell_type": "code",
   "execution_count": 13,
   "id": "302a2838-c027-478f-8365-c1db2ec09e59",
   "metadata": {},
   "outputs": [
    {
     "name": "stdout",
     "output_type": "stream",
     "text": [
      "Accuracy: 99.49%\n",
      "Elapsed time: 0.3801898956298828 seconds\n"
     ]
    }
   ],
   "source": [
    "start_time = time.time()\n",
    "pac = PassiveAggressiveClassifier(random_state = 42,loss = 'squared_hinge',  max_iter = 50, C = 0.16)\n",
    "pac.fit(tfidf_train, y_train.values.ravel())\n",
    "\n",
    "#Predict on the test set and calculate accuracy\n",
    "y_pred = pac.predict(tfidf_test)\n",
    "score = accuracy_score(y_test, y_pred)\n",
    "\n",
    "print(f'Accuracy: {round(score*100, 2)}%')\n",
    "\n",
    "\n",
    "end_time = time.time()\n",
    "elapsed_time = (end_time - start_time)\n",
    "print(f\"Elapsed time: {elapsed_time} seconds\" )\n",
    "\n"
   ]
  },
  {
   "cell_type": "code",
   "execution_count": 14,
   "id": "c8217b8d-ff6e-40bb-a760-dffd7e82ab7e",
   "metadata": {},
   "outputs": [
    {
     "name": "stdout",
     "output_type": "stream",
     "text": [
      "Accuracy: 99.62%\n",
      "Elapsed time: 0.3675520420074463 seconds\n"
     ]
    }
   ],
   "source": [
    "start_time = time.time()\n",
    "\n",
    "pac = PassiveAggressiveClassifier(random_state = 7,loss = 'squared_hinge',  max_iter = 50, C = 0.16)\n",
    "pac.fit(tfidfw_train, yw_train.values.ravel())\n",
    "\n",
    "#Predict on the test set and calculate accuracy\n",
    "yw_pred = pac.predict(tfidfw_test)\n",
    "scoreForWords = accuracy_score(yw_test, yw_pred)\n",
    "\n",
    "print(f'Accuracy: {round(scoreForWords*100, 2)}%')\n",
    "\n",
    "end_time = time.time()\n",
    "elapsed_time = (end_time - start_time)\n",
    "print(f\"Elapsed time: {elapsed_time} seconds\" )"
   ]
  },
  {
   "cell_type": "markdown",
   "id": "865bf1ae-3a57-4ecc-abcc-c00861bebb92",
   "metadata": {
    "tags": []
   },
   "source": [
    "### 2. Gradient Boost Clasifier"
   ]
  },
  {
   "cell_type": "code",
   "execution_count": 15,
   "id": "8367a6c0-7385-4faa-8854-7d57e463cdde",
   "metadata": {
    "tags": []
   },
   "outputs": [
    {
     "name": "stdout",
     "output_type": "stream",
     "text": [
      "Accuracy: 99.62%\n",
      "Elapsed time: 4.1143294215202335 minutes\n"
     ]
    }
   ],
   "source": [
    "start_time = time.time()\n",
    "\n",
    "gbc = GradientBoostingClassifier(random_state=0)\n",
    "gbc.fit(tfidf_train, y_train)\n",
    "pred_gbc = gbc.predict(tfidf_test)\n",
    "scoreForgbc = accuracy_score(y_test, pred_gbc)\n",
    "\n",
    "print(f'Accuracy: {round(scoreForgbc*100, 2)}%')\n",
    "\n",
    "end_time = time.time()\n",
    "elapsed_time = (end_time - start_time)/60\n",
    "print(f\"Elapsed time: {elapsed_time} minutes\" )\n",
    "\n",
    "#gbc.score(tfidf_test, y_test)\n",
    "\n",
    "#print(classification_report(y_test, pred_gbc))"
   ]
  },
  {
   "cell_type": "code",
   "execution_count": 16,
   "id": "454c2079-8384-4ceb-80cd-a0b34e15c41e",
   "metadata": {},
   "outputs": [
    {
     "name": "stdout",
     "output_type": "stream",
     "text": [
      "Accuracy: 99.75%\n",
      "Elapsed time: 37.65594458580017 minutes\n"
     ]
    }
   ],
   "source": [
    "start_time = time.time()\n",
    "\n",
    "gbcw = GradientBoostingClassifier(random_state=0)\n",
    "gbcw.fit(tfidfw_train, yw_train)\n",
    "pred_gbcw = gbcw.predict(tfidfw_test)\n",
    "scoreForgbcw = accuracy_score(yw_test, pred_gbcw)\n",
    "\n",
    "print(f'Accuracy: {round(scoreForgbcw*100, 2)}%')\n",
    "\n",
    "end_time = time.time()\n",
    "elapsed_time = (end_time - start_time)/60\n",
    "print(f\"Elapsed time: {elapsed_time} minutes\" )"
   ]
  },
  {
   "cell_type": "markdown",
   "id": "41d9dcc6-0e4e-4619-99ba-b87a41a03caf",
   "metadata": {},
   "source": [
    "### 3. Support Vector Machine"
   ]
  },
  {
   "cell_type": "code",
   "execution_count": 17,
   "id": "057fe02a-e7d2-4bb7-b378-f643751efb43",
   "metadata": {
    "tags": []
   },
   "outputs": [
    {
     "name": "stdout",
     "output_type": "stream",
     "text": [
      "Accuracy: 99.28%\n",
      "Elapsed time: 169.17534261544546 minutes\n"
     ]
    }
   ],
   "source": [
    "start_time = time.time()\n",
    "\n",
    "svc = svm.SVC()\n",
    "svc.fit(tfidf_train, y_train)\n",
    "\n",
    "pred_svc = svc.predict(tfidf_test)\n",
    "scoreFromSVC = accuracy_score(y_test, pred_svc)\n",
    "print(f'Accuracy: {round(scoreFromSVC*100, 2)}%')\n",
    "\n",
    "end_time = time.time()\n",
    "elapsed_time = (end_time - start_time)/60\n",
    "print(f\"Elapsed time: {elapsed_time} minutes\" )"
   ]
  },
  {
   "cell_type": "code",
   "execution_count": 18,
   "id": "1cd593ac-b973-47b7-b346-32bb201fa9ff",
   "metadata": {},
   "outputs": [
    {
     "name": "stdout",
     "output_type": "stream",
     "text": [
      "Accuracy: 99.41%\n",
      "Elapsed time: 543.7800947666168 minutes\n"
     ]
    }
   ],
   "source": [
    "start_time = time.time()\n",
    "\n",
    "svcw = svm.SVC()\n",
    "svcw.fit(tfidfw_train, yw_train)\n",
    "\n",
    "pred_svcw = svcw.predict(tfidfw_test)\n",
    "scoreFromSVCW = accuracy_score(yw_test, pred_svcw)\n",
    "print(f'Accuracy: {round(scoreFromSVCW*100, 2)}%')\n",
    "\n",
    "end_time = time.time()\n",
    "elapsed_time = (end_time - start_time)/60\n",
    "print(f\"Elapsed time: {elapsed_time} minutes\" )"
   ]
  },
  {
   "cell_type": "markdown",
   "id": "d9f8d31d-5f03-4928-858a-c91519213d14",
   "metadata": {},
   "source": [
    "### 4. eXtreme Gradient Boosting (XGBoost)"
   ]
  },
  {
   "cell_type": "code",
   "execution_count": 19,
   "id": "aa750447-55a4-4e08-a01d-457aba306eb2",
   "metadata": {},
   "outputs": [
    {
     "name": "stdout",
     "output_type": "stream",
     "text": [
      "Tuning XGBoost\n"
     ]
    }
   ],
   "source": [
    "print(f'Tuning XGBoost')"
   ]
  },
  {
   "cell_type": "code",
   "execution_count": null,
   "id": "ed3853fc-4e14-4ac9-b6ec-b33c3928bc7b",
   "metadata": {},
   "outputs": [],
   "source": [
    "start_time = time.time()\n",
    "\n",
    "#param_test = {\n",
    "# 'max_depth':range(3,10,2),\n",
    "# 'n_estimators':range(100,1000,50)\n",
    "#}\n",
    "\n",
    "param_test = {\n",
    " 'max_depth':range(5,10,2),\n",
    " 'n_estimators':range(400,800,100)\n",
    "}\n",
    "\n",
    "gsearch = GridSearchCV(estimator = XGBClassifier( learning_rate =0.1, n_estimators=140, max_depth=5,\n",
    " min_child_weight=1, gamma=0, subsample=0.8, colsample_bytree=0.8,\n",
    " objective= 'binary:logistic',  scale_pos_weight=1, seed=27), \n",
    " param_grid = param_test, scoring='roc_auc',n_jobs=4, cv=5) \n",
    "#nthread=4\n",
    "gsearch.fit(tfidf_train ,y_train)\n",
    "print(gsearch.grid_scores_, gsearch.best_params_, gsearch.best_score_)\n",
    "gs_time = time.time()\n",
    "elapsed_time = (gs_time - start_time)/60\n",
    "print(f\"Elapsed time: {elapsed_time} minutes\" )\n",
    "\n",
    "\n",
    "xgbc = XGBClassifier(max_depth=6, n_estimators=1000, learning_rate=0.3)\n",
    "xgbc.fit(tfidf_train, y_train)\n",
    "pred_xgbc = xgbc.predict(tfidf_test)\n",
    "scoreFromXGBC = accuracy_score(y_test, pred_xgbc)\n",
    "print(f'Accuracy: {round(scoreFromXGBC*100, 2)}%')\n",
    "\n",
    "end_time = time.time()\n",
    "elapsed_time = (end_time - start_time)/60\n",
    "print(f\"Elapsed time: {elapsed_time} minutes\" )\n",
    "\n",
    "#pred_xgbc.score(tfidf_test, y_test)\n",
    "\n",
    "#Accuracy: 49.91%\n",
    "#Elapsed time: 2.6986980994542438 minutes"
   ]
  },
  {
   "cell_type": "markdown",
   "id": "06e2c06d-1457-4bee-b884-13b45f6cfdec",
   "metadata": {},
   "source": [
    "## Conclusion"
   ]
  },
  {
   "cell_type": "markdown",
   "id": "70b079bd-696a-4f8e-b387-a443c47e1739",
   "metadata": {},
   "source": [
    "Based on all the methods, Passive aggressive classifier shows the best result based on the accuracy, followed by gradient boost and Support vector machine. Although the difference in accuracy is not much but time taken to train the model have huge difference.\n",
    "\n",
    "Passive Aggressive classifier took few seconds to train the model, Gradient boost took in minutes whereas Support Vector took hours.\n",
    "\n",
    "It can be noticed that if the text is tokenized and stemmed, the accuracy of the model improves. This is applicable for all the models as it reduce the unwanted text."
   ]
  },
  {
   "cell_type": "code",
   "execution_count": null,
   "id": "5c260b20-1bbe-4163-8ef4-df072aad690b",
   "metadata": {},
   "outputs": [],
   "source": []
  }
 ],
 "metadata": {
  "kernelspec": {
   "display_name": "Python 3 (ipykernel)",
   "language": "python",
   "name": "python3"
  },
  "language_info": {
   "codemirror_mode": {
    "name": "ipython",
    "version": 3
   },
   "file_extension": ".py",
   "mimetype": "text/x-python",
   "name": "python",
   "nbconvert_exporter": "python",
   "pygments_lexer": "ipython3",
   "version": "3.11.4"
  }
 },
 "nbformat": 4,
 "nbformat_minor": 5
}
